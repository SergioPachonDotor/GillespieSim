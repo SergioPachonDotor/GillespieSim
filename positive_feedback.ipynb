{
 "cells": [
  {
   "cell_type": "code",
   "execution_count": 14,
   "source": [
    "import numpy as np \n",
    "import matplotlib.pyplot as plt \n",
    "import pandas as pd\n",
    "import GillespieSim as gs"
   ],
   "outputs": [],
   "metadata": {}
  },
  {
   "cell_type": "code",
   "execution_count": 15,
   "source": [
    "birth_death = gs.ReactionModel(\n",
    "    \n",
    "                                species= {\n",
    "                                            'protein': 0\n",
    "                                            },\n",
    "\n",
    "                                propensities= {\n",
    "                                                'kr': 100, \n",
    "                                                'gamma':10\n",
    "                                                },\n",
    "                                                \n",
    "\n",
    "                                reactions= {\n",
    "                                            'translation':['kr'], \n",
    "                                            'degradation':['gamma', 'protein']\n",
    "                                            },\n",
    "\n",
    "                                q= {\n",
    "                                    'translation': {'create': ['protein']}, \n",
    "                                    'degradation': {'destroy': ['protein']}})"
   ],
   "outputs": [],
   "metadata": {}
  },
  {
   "cell_type": "code",
   "execution_count": 16,
   "source": [
    "positive_feedback = gs.Gillespie(tmax=1, sampling_time = 0.01,reaction_model = birth_death, model_name='positive_feedback', cells=1)\n",
    "positive_feedback.simulate()"
   ],
   "outputs": [
    {
     "output_type": "stream",
     "name": "stderr",
     "text": [
      "100%|██████████| 1/1 [00:00<00:00, 62.45it/s]\n"
     ]
    }
   ],
   "metadata": {}
  },
  {
   "cell_type": "code",
   "execution_count": 17,
   "source": [
    "df = pd.read_csv('positive_feedback.csv', delimiter='|')\n",
    "df.head()"
   ],
   "outputs": [
    {
     "output_type": "execute_result",
     "data": {
      "text/plain": [
       "   protein  time  cell\n",
       "0        0  0.00     1\n",
       "1        0  0.01     1\n",
       "2        2  0.02     1\n",
       "3        4  0.03     1\n",
       "4        5  0.04     1"
      ],
      "text/html": [
       "<div>\n",
       "<style scoped>\n",
       "    .dataframe tbody tr th:only-of-type {\n",
       "        vertical-align: middle;\n",
       "    }\n",
       "\n",
       "    .dataframe tbody tr th {\n",
       "        vertical-align: top;\n",
       "    }\n",
       "\n",
       "    .dataframe thead th {\n",
       "        text-align: right;\n",
       "    }\n",
       "</style>\n",
       "<table border=\"1\" class=\"dataframe\">\n",
       "  <thead>\n",
       "    <tr style=\"text-align: right;\">\n",
       "      <th></th>\n",
       "      <th>protein</th>\n",
       "      <th>time</th>\n",
       "      <th>cell</th>\n",
       "    </tr>\n",
       "  </thead>\n",
       "  <tbody>\n",
       "    <tr>\n",
       "      <th>0</th>\n",
       "      <td>0</td>\n",
       "      <td>0.00</td>\n",
       "      <td>1</td>\n",
       "    </tr>\n",
       "    <tr>\n",
       "      <th>1</th>\n",
       "      <td>0</td>\n",
       "      <td>0.01</td>\n",
       "      <td>1</td>\n",
       "    </tr>\n",
       "    <tr>\n",
       "      <th>2</th>\n",
       "      <td>2</td>\n",
       "      <td>0.02</td>\n",
       "      <td>1</td>\n",
       "    </tr>\n",
       "    <tr>\n",
       "      <th>3</th>\n",
       "      <td>4</td>\n",
       "      <td>0.03</td>\n",
       "      <td>1</td>\n",
       "    </tr>\n",
       "    <tr>\n",
       "      <th>4</th>\n",
       "      <td>5</td>\n",
       "      <td>0.04</td>\n",
       "      <td>1</td>\n",
       "    </tr>\n",
       "  </tbody>\n",
       "</table>\n",
       "</div>"
      ]
     },
     "metadata": {},
     "execution_count": 17
    }
   ],
   "metadata": {}
  },
  {
   "cell_type": "code",
   "execution_count": 18,
   "source": [
    "plt.plot(df.time, df.protein, 'ro', ms=2, label='mRNA')\n",
    "plt.grid(True)\n",
    "plt.title('Simple Birth Death Process')\n",
    "plt.xlabel('Time (min)')\n",
    "plt.ylabel('mRNA Quantity')\n",
    "plt.legend(loc=5)"
   ],
   "outputs": [
    {
     "output_type": "execute_result",
     "data": {
      "text/plain": [
       "<matplotlib.legend.Legend at 0x7fb417f11250>"
      ]
     },
     "metadata": {},
     "execution_count": 18
    },
    {
     "output_type": "display_data",
     "data": {
      "text/plain": [
       "<Figure size 432x288 with 1 Axes>"
      ],
      "image/png": "[encoded data removed]"
     },
     "metadata": {
      "needs_background": "light"
     }
    }
   ],
   "metadata": {}
  },
  {
   "cell_type": "code",
   "execution_count": 19,
   "source": [
    "repressilator = gs.ReactionModel(\n",
    "                                species = {\n",
    "                                                'tetR': 550,\n",
    "                                                'lacI': 1600,\n",
    "                                                'alphacl': 1000,\n",
    "                                                'GFP': 100\n",
    "                                                },\n",
    "\n",
    "                                propensities = {\n",
    "                                                'kd_tetR': 0.02,\n",
    "                                                'kd_lacI': 0.02,\n",
    "                                                'kd_alphacl': 0.02,\n",
    "                                                'kc_GFP': 0.05,\n",
    "                                                'kd_GFP': 1/100000\n",
    "                                                },\n",
    "                                \n",
    "                                reactions = {\n",
    "                                                'PdtetR':       ['kd_tetR', 'alphacl'],\n",
    "                                                'PdlacI':       ['kd_lacI', 'tetR'],\n",
    "                                                'Pdalphacl':    ['kd_alphacl', 'lacI'],\n",
    "                                                'GFP_cre' :     ['kc_GFP', 'lacI'],\n",
    "                                                'GFP_des':      ['kd_GFP', 'tetR', 'GFP']\n",
    "                                                },\n",
    "                                \n",
    "                                q = {\n",
    "                                        'PdtetR':       {'create': ['lacI'],    'destroy': ['tetR']},\n",
    "                                        'PdlacI':       {'create': ['alphacl'], 'destroy': ['lacI']},\n",
    "                                        'Pdalphacl':    {'create': ['tetR'],    'destroy': ['alphacl']},\n",
    "                                        'GFP_cre':      {'create': ['GFP']},\n",
    "                                        'GFP_des':      {'destroy': ['GFP']}\n",
    "                                        }\n",
    "                                )\n"
   ],
   "outputs": [],
   "metadata": {}
  },
  {
   "cell_type": "code",
   "execution_count": 20,
   "source": [
    "repre = gs.Gillespie(tmax=50, sampling_time = 5,reaction_model = repressilator, model_name='repre', cells=5)\n",
    "repre.simulate()"
   ],
   "outputs": [
    {
     "output_type": "stream",
     "name": "stderr",
     "text": [
      "100%|██████████| 5/5 [00:02<00:00,  2.46it/s]\n"
     ]
    }
   ],
   "metadata": {}
  },
  {
   "cell_type": "code",
   "execution_count": 21,
   "source": [
    "df = pd.read_csv('repre.csv', delimiter='|')\n",
    "df.head()"
   ],
   "outputs": [
    {
     "output_type": "execute_result",
     "data": {
      "text/plain": [
       "   tetR  lacI  alphacl   GFP  time  cell\n",
       "0   550  1600     1000   100     0     1\n",
       "1   616  1652      882   490     5     1\n",
       "2   689  1669      792   942    10     1\n",
       "3   783  1639      728  1325    15     1\n",
       "4   875  1619      656  1677    20     1"
      ],
      "text/html": [
       "<div>\n",
       "<style scoped>\n",
       "    .dataframe tbody tr th:only-of-type {\n",
       "        vertical-align: middle;\n",
       "    }\n",
       "\n",
       "    .dataframe tbody tr th {\n",
       "        vertical-align: top;\n",
       "    }\n",
       "\n",
       "    .dataframe thead th {\n",
       "        text-align: right;\n",
       "    }\n",
       "</style>\n",
       "<table border=\"1\" class=\"dataframe\">\n",
       "  <thead>\n",
       "    <tr style=\"text-align: right;\">\n",
       "      <th></th>\n",
       "      <th>tetR</th>\n",
       "      <th>lacI</th>\n",
       "      <th>alphacl</th>\n",
       "      <th>GFP</th>\n",
       "      <th>time</th>\n",
       "      <th>cell</th>\n",
       "    </tr>\n",
       "  </thead>\n",
       "  <tbody>\n",
       "    <tr>\n",
       "      <th>0</th>\n",
       "      <td>550</td>\n",
       "      <td>1600</td>\n",
       "      <td>1000</td>\n",
       "      <td>100</td>\n",
       "      <td>0</td>\n",
       "      <td>1</td>\n",
       "    </tr>\n",
       "    <tr>\n",
       "      <th>1</th>\n",
       "      <td>616</td>\n",
       "      <td>1652</td>\n",
       "      <td>882</td>\n",
       "      <td>490</td>\n",
       "      <td>5</td>\n",
       "      <td>1</td>\n",
       "    </tr>\n",
       "    <tr>\n",
       "      <th>2</th>\n",
       "      <td>689</td>\n",
       "      <td>1669</td>\n",
       "      <td>792</td>\n",
       "      <td>942</td>\n",
       "      <td>10</td>\n",
       "      <td>1</td>\n",
       "    </tr>\n",
       "    <tr>\n",
       "      <th>3</th>\n",
       "      <td>783</td>\n",
       "      <td>1639</td>\n",
       "      <td>728</td>\n",
       "      <td>1325</td>\n",
       "      <td>15</td>\n",
       "      <td>1</td>\n",
       "    </tr>\n",
       "    <tr>\n",
       "      <th>4</th>\n",
       "      <td>875</td>\n",
       "      <td>1619</td>\n",
       "      <td>656</td>\n",
       "      <td>1677</td>\n",
       "      <td>20</td>\n",
       "      <td>1</td>\n",
       "    </tr>\n",
       "  </tbody>\n",
       "</table>\n",
       "</div>"
      ]
     },
     "metadata": {},
     "execution_count": 21
    }
   ],
   "metadata": {}
  },
  {
   "cell_type": "code",
   "execution_count": 22,
   "source": [
    "plt.plot(df.time, df.tetR, 'yo', ms=0.5)\n",
    "plt.plot(df.time, df.lacI, 'ro', ms=0.5)\n",
    "plt.plot(df.time, df.alphacl, 'bo', ms=0.5)"
   ],
   "outputs": [
    {
     "output_type": "execute_result",
     "data": {
      "text/plain": [
       "[<matplotlib.lines.Line2D at 0x7fb417e7c940>]"
      ]
     },
     "metadata": {},
     "execution_count": 22
    },
    {
     "output_type": "display_data",
     "data": {
      "text/plain": [
       "<Figure size 432x288 with 1 Axes>"
      ],
      "image/png": "[encoded data removed]"
     },
     "metadata": {
      "needs_background": "light"
     }
    }
   ],
   "metadata": {}
  },
  {
   "cell_type": "code",
   "execution_count": 23,
   "source": [
    "plt.plot(df.time, df.GFP, 'go', ms=0.5)"
   ],
   "outputs": [
    {
     "output_type": "execute_result",
     "data": {
      "text/plain": [
       "[<matplotlib.lines.Line2D at 0x7fb417dd53d0>]"
      ]
     },
     "metadata": {},
     "execution_count": 23
    },
    {
     "output_type": "display_data",
     "data": {
      "text/plain": [
       "<Figure size 432x288 with 1 Axes>"
      ],
      "image/png": "[encoded data removed]"
     },
     "metadata": {
      "needs_background": "light"
     }
    }
   ],
   "metadata": {}
  },
  {
   "cell_type": "code",
   "execution_count": 24,
   "source": [
    "from GillespieSim import Gillespie as Gillespie\n",
    "import numpy as np\n",
    "\n",
    "simulation = Gillespie(tmax=40, sampling_time = 0.1, model_name='division',division_time=18,division_size=2,birth_size=np.random.normal(loc=2/2, scale=0.1*(2/2)))\n",
    "\n",
    "simulation.sizer()"
   ],
   "outputs": [
    {
     "output_type": "display_data",
     "data": {
      "text/plain": [
       "<Figure size 432x288 with 2 Axes>"
      ],
      "image/png": "[encoded data removed]"
     },
     "metadata": {
      "needs_background": "light"
     }
    }
   ],
   "metadata": {}
  },
  {
   "cell_type": "code",
   "execution_count": 8,
   "source": [
    "import numpy as np \n",
    "import matplotlib.pyplot as plt \n",
    "import pandas as pd\n",
    "import GillespieSim as gs\n",
    "\n",
    "birth_death = gs.ReactionModel(\n",
    "    \n",
    "                                species= {\n",
    "                                            'protein': 0,\n",
    "                                            'mRNA': 0\n",
    "                                            },\n",
    "\n",
    "                                propensities= {\n",
    "                                                'kr': 100, \n",
    "                                                'gamma':10,\n",
    "                                                'kr_mrna': 10,\n",
    "                                                'gamma_mrna': 2\n",
    "                                                },\n",
    "\n",
    "                                reactions= {\n",
    "                                            'translation':['kr', 'mRNA'], \n",
    "                                            'degradation':['gamma', 'protein'],\n",
    "                                            'transcription':['kr_mrna'],\n",
    "                                            'mRNA_degradation': ['gamma_mrna', 'mRNA']\n",
    "                                            },\n",
    "\n",
    "                                q= {\n",
    "                                    'translation': {'create': ['protein']}, \n",
    "                                    'degradation': {'destroy': ['protein']},\n",
    "                                    'transcription': {'create': ['mRNA']},\n",
    "                                    'mRNA_degradation': {'destroy': ['mRNA']}\n",
    "                                    })\n",
    "\n",
    "birth_death_model = gs.Gillespie(tmax=50, sampling_time = 5,reaction_model = birth_death, model_name='bd', cells=5)\n",
    "birth_death_model.calculate_sorted_tau()"
   ],
   "outputs": [
    {
     "output_type": "execute_result",
     "data": {
      "text/plain": [
       "{'translation': inf,\n",
       " 'transcription': inf,\n",
       " 'degradation': inf,\n",
       " 'mRNA_degradation': inf}"
      ]
     },
     "metadata": {},
     "execution_count": 8
    }
   ],
   "metadata": {}
  },
  {
   "cell_type": "code",
   "execution_count": 26,
   "source": [
    "dict(zip([1,2], [3,4]))"
   ],
   "outputs": [
    {
     "output_type": "execute_result",
     "data": {
      "text/plain": [
       "{1: 3, 2: 4}"
      ]
     },
     "metadata": {},
     "execution_count": 26
    }
   ],
   "metadata": {}
  }
 ],
 "metadata": {
  "orig_nbformat": 4,
  "language_info": {
   "name": "python",
   "version": "3.9.5",
   "mimetype": "text/x-python",
   "codemirror_mode": {
    "name": "ipython",
    "version": 3
   },
   "pygments_lexer": "ipython3",
   "nbconvert_exporter": "python",
   "file_extension": ".py"
  },
  "kernelspec": {
   "name": "python3",
   "display_name": "Python 3.9.5 64-bit ('gsim': conda)"
  },
  "interpreter": {
   "hash": "b01412023c51a3078b0a98df019d7e29ec27d3d95200540575b7d7e23c5a9df8"
  }
 },
 "nbformat": 4,
 "nbformat_minor": 2
}