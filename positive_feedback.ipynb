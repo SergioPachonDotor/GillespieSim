{
 "cells": [
  {
   "cell_type": "code",
   "execution_count": 4,
   "source": [
    "import numpy as np \n",
    "import matplotlib.pyplot as plt \n",
    "import pandas as pd\n",
    "import GillespieSim as gs"
   ],
   "outputs": [],
   "metadata": {}
  },
  {
   "cell_type": "code",
   "execution_count": 5,
   "source": [
    "birth_death = gs.ReactionModel(\n",
    "    \n",
    "                                species= {\n",
    "                                            'protein': 0\n",
    "                                            },\n",
    "\n",
    "                                propensities= {\n",
    "                                                'kr': 100, \n",
    "                                                'gamma':10\n",
    "                                                },\n",
    "                                                \n",
    "\n",
    "                                reactions= {\n",
    "                                            'translation':['kr'], \n",
    "                                            'degradation':['gamma', 'protein']\n",
    "                                            },\n",
    "\n",
    "                                q= {\n",
    "                                    'translation': {'create': ['protein']}, \n",
    "                                    'degradation': {'destroy': ['protein']}})"
   ],
   "outputs": [],
   "metadata": {}
  },
  {
   "cell_type": "code",
   "execution_count": 6,
   "source": [
    "positive_feedback = gs.Gillespie(tmax=1, sampling_time = 0.01,reaction_model = birth_death, model_name='positive_feedback', cells=1)\n",
    "positive_feedback.simulate()"
   ],
   "outputs": [
    {
     "output_type": "stream",
     "name": "stderr",
     "text": [
      "100%|██████████| 1/1 [00:00<00:00, 10.88it/s]\n"
     ]
    }
   ],
   "metadata": {}
  },
  {
   "cell_type": "code",
   "execution_count": 7,
   "source": [
    "df = pd.read_csv('positive_feedback.csv', delimiter='|')\n",
    "df.head()"
   ],
   "outputs": [
    {
     "output_type": "execute_result",
     "data": {
      "text/plain": [
       "   protein  time  cell\n",
       "0        0  0.00     1\n",
       "1        1  0.01     1\n",
       "2        2  0.02     1\n",
       "3        3  0.03     1\n",
       "4        3  0.04     1"
      ],
      "text/html": [
       "<div>\n",
       "<style scoped>\n",
       "    .dataframe tbody tr th:only-of-type {\n",
       "        vertical-align: middle;\n",
       "    }\n",
       "\n",
       "    .dataframe tbody tr th {\n",
       "        vertical-align: top;\n",
       "    }\n",
       "\n",
       "    .dataframe thead th {\n",
       "        text-align: right;\n",
       "    }\n",
       "</style>\n",
       "<table border=\"1\" class=\"dataframe\">\n",
       "  <thead>\n",
       "    <tr style=\"text-align: right;\">\n",
       "      <th></th>\n",
       "      <th>protein</th>\n",
       "      <th>time</th>\n",
       "      <th>cell</th>\n",
       "    </tr>\n",
       "  </thead>\n",
       "  <tbody>\n",
       "    <tr>\n",
       "      <th>0</th>\n",
       "      <td>0</td>\n",
       "      <td>0.00</td>\n",
       "      <td>1</td>\n",
       "    </tr>\n",
       "    <tr>\n",
       "      <th>1</th>\n",
       "      <td>1</td>\n",
       "      <td>0.01</td>\n",
       "      <td>1</td>\n",
       "    </tr>\n",
       "    <tr>\n",
       "      <th>2</th>\n",
       "      <td>2</td>\n",
       "      <td>0.02</td>\n",
       "      <td>1</td>\n",
       "    </tr>\n",
       "    <tr>\n",
       "      <th>3</th>\n",
       "      <td>3</td>\n",
       "      <td>0.03</td>\n",
       "      <td>1</td>\n",
       "    </tr>\n",
       "    <tr>\n",
       "      <th>4</th>\n",
       "      <td>3</td>\n",
       "      <td>0.04</td>\n",
       "      <td>1</td>\n",
       "    </tr>\n",
       "  </tbody>\n",
       "</table>\n",
       "</div>"
      ]
     },
     "metadata": {},
     "execution_count": 7
    }
   ],
   "metadata": {}
  },
  {
   "cell_type": "code",
   "execution_count": 8,
   "source": [
    "plt.plot(df.time, df.protein, 'ro', ms=2, label='mRNA')\n",
    "plt.grid(True)\n",
    "plt.title('Simple Birth Death Process')\n",
    "plt.xlabel('Time (min)')\n",
    "plt.ylabel('mRNA Quantity')\n",
    "plt.legend(loc=5)"
   ],
   "outputs": [
    {
     "output_type": "execute_result",
     "data": {
      "text/plain": [
       "<matplotlib.legend.Legend at 0x7f24ccda8880>"
      ]
     },
     "metadata": {},
     "execution_count": 8
    },
    {
     "output_type": "display_data",
     "data": {
      "text/plain": [
       "<Figure size 432x288 with 1 Axes>"
      ],
      "image/png": "[encoded data removed]"
     },
     "metadata": {
      "needs_background": "light"
     }
    }
   ],
   "metadata": {}
  },
  {
   "cell_type": "code",
   "execution_count": 9,
   "source": [
    "repressilator = gs.ReactionModel(\n",
    "                                species = {\n",
    "                                                'tetR': 550,\n",
    "                                                'lacI': 1600,\n",
    "                                                'alphacl': 1000,\n",
    "                                                'GFP': 100\n",
    "                                                },\n",
    "\n",
    "                                propensities = {\n",
    "                                                'kd_tetR': 0.02,\n",
    "                                                'kd_lacI': 0.02,\n",
    "                                                'kd_alphacl': 0.02,\n",
    "                                                'kc_GFP': 0.05,\n",
    "                                                'kd_GFP': 1/100000\n",
    "                                                },\n",
    "                                \n",
    "                                reactions = {\n",
    "                                                'PdtetR':       ['kd_tetR', 'alphacl'],\n",
    "                                                'PdlacI':       ['kd_lacI', 'tetR'],\n",
    "                                                'Pdalphacl':    ['kd_alphacl', 'lacI'],\n",
    "                                                'GFP_cre' :     ['kc_GFP', 'lacI'],\n",
    "                                                'GFP_des':      ['kd_GFP', 'tetR', 'GFP']\n",
    "                                                },\n",
    "                                \n",
    "                                q = {\n",
    "                                        'PdtetR':       {'create': ['lacI'],    'destroy': ['tetR']},\n",
    "                                        'PdlacI':       {'create': ['alphacl'], 'destroy': ['lacI']},\n",
    "                                        'Pdalphacl':    {'create': ['tetR'],    'destroy': ['alphacl']},\n",
    "                                        'GFP_cre':      {'create': ['GFP']},\n",
    "                                        'GFP_des':      {'destroy': ['GFP']}\n",
    "                                        }\n",
    "                                )\n"
   ],
   "outputs": [],
   "metadata": {}
  },
  {
   "cell_type": "code",
   "execution_count": 10,
   "source": [
    "repre = gs.Gillespie(tmax=50, sampling_time = 5,reaction_model = repressilator, model_name='repre', cells=1)\n",
    "repre.simulate()"
   ],
   "outputs": [
    {
     "output_type": "stream",
     "name": "stderr",
     "text": [
      "100%|██████████| 1/1 [00:01<00:00,  1.22s/it]\n"
     ]
    }
   ],
   "metadata": {}
  },
  {
   "cell_type": "code",
   "execution_count": 11,
   "source": [
    "df = pd.read_csv('repre.csv', delimiter='|')\n",
    "df.head()"
   ],
   "outputs": [
    {
     "output_type": "execute_result",
     "data": {
      "text/plain": [
       "   tetR  lacI  alphacl   GFP  time  cell\n",
       "0   550  1600     1000   100     0     1\n",
       "1   602  1630      918   499     5     1\n",
       "2   685  1657      808   906    10     1\n",
       "3   781  1672      697  1284    15     1\n",
       "4   856  1671      623  1636    20     1"
      ],
      "text/html": [
       "<div>\n",
       "<style scoped>\n",
       "    .dataframe tbody tr th:only-of-type {\n",
       "        vertical-align: middle;\n",
       "    }\n",
       "\n",
       "    .dataframe tbody tr th {\n",
       "        vertical-align: top;\n",
       "    }\n",
       "\n",
       "    .dataframe thead th {\n",
       "        text-align: right;\n",
       "    }\n",
       "</style>\n",
       "<table border=\"1\" class=\"dataframe\">\n",
       "  <thead>\n",
       "    <tr style=\"text-align: right;\">\n",
       "      <th></th>\n",
       "      <th>tetR</th>\n",
       "      <th>lacI</th>\n",
       "      <th>alphacl</th>\n",
       "      <th>GFP</th>\n",
       "      <th>time</th>\n",
       "      <th>cell</th>\n",
       "    </tr>\n",
       "  </thead>\n",
       "  <tbody>\n",
       "    <tr>\n",
       "      <th>0</th>\n",
       "      <td>550</td>\n",
       "      <td>1600</td>\n",
       "      <td>1000</td>\n",
       "      <td>100</td>\n",
       "      <td>0</td>\n",
       "      <td>1</td>\n",
       "    </tr>\n",
       "    <tr>\n",
       "      <th>1</th>\n",
       "      <td>602</td>\n",
       "      <td>1630</td>\n",
       "      <td>918</td>\n",
       "      <td>499</td>\n",
       "      <td>5</td>\n",
       "      <td>1</td>\n",
       "    </tr>\n",
       "    <tr>\n",
       "      <th>2</th>\n",
       "      <td>685</td>\n",
       "      <td>1657</td>\n",
       "      <td>808</td>\n",
       "      <td>906</td>\n",
       "      <td>10</td>\n",
       "      <td>1</td>\n",
       "    </tr>\n",
       "    <tr>\n",
       "      <th>3</th>\n",
       "      <td>781</td>\n",
       "      <td>1672</td>\n",
       "      <td>697</td>\n",
       "      <td>1284</td>\n",
       "      <td>15</td>\n",
       "      <td>1</td>\n",
       "    </tr>\n",
       "    <tr>\n",
       "      <th>4</th>\n",
       "      <td>856</td>\n",
       "      <td>1671</td>\n",
       "      <td>623</td>\n",
       "      <td>1636</td>\n",
       "      <td>20</td>\n",
       "      <td>1</td>\n",
       "    </tr>\n",
       "  </tbody>\n",
       "</table>\n",
       "</div>"
      ]
     },
     "metadata": {},
     "execution_count": 11
    }
   ],
   "metadata": {}
  },
  {
   "cell_type": "code",
   "execution_count": 12,
   "source": [
    "plt.plot(df.time, df.tetR, 'yo', ms=0.5)\n",
    "plt.plot(df.time, df.lacI, 'ro', ms=0.5)\n",
    "plt.plot(df.time, df.alphacl, 'bo', ms=0.5)"
   ],
   "outputs": [
    {
     "output_type": "execute_result",
     "data": {
      "text/plain": [
       "[<matplotlib.lines.Line2D at 0x7f24cccfdc40>]"
      ]
     },
     "metadata": {},
     "execution_count": 12
    },
    {
     "output_type": "display_data",
     "data": {
      "text/plain": [
       "<Figure size 432x288 with 1 Axes>"
      ],
      "image/png": "[encoded data removed]"
     },
     "metadata": {
      "needs_background": "light"
     }
    }
   ],
   "metadata": {}
  },
  {
   "cell_type": "code",
   "execution_count": 13,
   "source": [
    "plt.plot(df.time, df.GFP, 'go', ms=0.5)"
   ],
   "outputs": [
    {
     "output_type": "execute_result",
     "data": {
      "text/plain": [
       "[<matplotlib.lines.Line2D at 0x7f24ccd302e0>]"
      ]
     },
     "metadata": {},
     "execution_count": 13
    },
    {
     "output_type": "display_data",
     "data": {
      "text/plain": [
       "<Figure size 432x288 with 1 Axes>"
      ],
      "image/png": "[encoded data removed]"
     },
     "metadata": {
      "needs_background": "light"
     }
    }
   ],
   "metadata": {}
  },
  {
   "cell_type": "code",
   "execution_count": 1,
   "source": [
    "import numpy as np \n",
    "import matplotlib.pyplot as plt \n",
    "import pandas as pd\n",
    "import GillespieSim as gs\n",
    "\n",
    "birth_death = gs.ReactionModel(\n",
    "    \n",
    "                                species= {\n",
    "                                            'protein': 0\n",
    "                                            },\n",
    "\n",
    "                                propensities= {\n",
    "                                                'kr': 10, \n",
    "                                                'gamma':1\n",
    "                                                },\n",
    "\n",
    "                                reactions= {\n",
    "                                            'translation':['kr'], \n",
    "                                            'degradation':['gamma', 'protein']\n",
    "                                            },\n",
    "\n",
    "                                q= {\n",
    "                                    'translation': {'burst': ['protein']}, \n",
    "                                    'degradation': {'destroy': ['protein']}\n",
    "                                    })\n",
    "\n",
    "birth_death_model = gs.Gillespie(tmax=20, sampling_time =0.1,reaction_model = birth_death, model_name='bd', cells=1)\n",
    "birth_death_model.sizer()"
   ],
   "outputs": [
    {
     "output_type": "stream",
     "name": "stderr",
     "text": [
      "  0%|          | 0/1 [00:00<?, ?it/s]/mnt/c/Users/sap98/Desktop/My_Stuff/programming/projects/Gsim/GillespieSim.py:277: RuntimeWarning: divide by zero encountered in long_scalars\n",
      "  return -(1/propensity) * np.log(np.random.rand())\n",
      "100%|██████████| 1/1 [00:09<00:00,  9.76s/it]\n"
     ]
    }
   ],
   "metadata": {}
  },
  {
   "cell_type": "code",
   "execution_count": 2,
   "source": [
    "df_2 = pd.read_csv('bd.csv', delimiter='|')\n",
    "df_2"
   ],
   "outputs": [
    {
     "output_type": "execute_result",
     "data": {
      "text/plain": [
       "     protein  time  cell  cell_size  division_time\n",
       "0          0   0.0     1     1.0679        16.9117\n",
       "1        192   0.1     1     1.0720        16.8117\n",
       "2        457   0.2     1     1.0761        16.7117\n",
       "3        425   0.3     1     1.0803        16.6117\n",
       "4        380   0.4     1     1.0844        16.5117\n",
       "..       ...   ...   ...        ...            ...\n",
       "196     1138  19.6     1     1.1357        15.1380\n",
       "197     1022  19.7     1     1.1401        15.0380\n",
       "198     1308  19.8     1     1.1445        14.9380\n",
       "199     1189  19.9     1     1.1489        14.8380\n",
       "200     1166  20.0     1     1.1534        14.7380\n",
       "\n",
       "[201 rows x 5 columns]"
      ],
      "text/html": [
       "<div>\n",
       "<style scoped>\n",
       "    .dataframe tbody tr th:only-of-type {\n",
       "        vertical-align: middle;\n",
       "    }\n",
       "\n",
       "    .dataframe tbody tr th {\n",
       "        vertical-align: top;\n",
       "    }\n",
       "\n",
       "    .dataframe thead th {\n",
       "        text-align: right;\n",
       "    }\n",
       "</style>\n",
       "<table border=\"1\" class=\"dataframe\">\n",
       "  <thead>\n",
       "    <tr style=\"text-align: right;\">\n",
       "      <th></th>\n",
       "      <th>protein</th>\n",
       "      <th>time</th>\n",
       "      <th>cell</th>\n",
       "      <th>cell_size</th>\n",
       "      <th>division_time</th>\n",
       "    </tr>\n",
       "  </thead>\n",
       "  <tbody>\n",
       "    <tr>\n",
       "      <th>0</th>\n",
       "      <td>0</td>\n",
       "      <td>0.0</td>\n",
       "      <td>1</td>\n",
       "      <td>1.0679</td>\n",
       "      <td>16.9117</td>\n",
       "    </tr>\n",
       "    <tr>\n",
       "      <th>1</th>\n",
       "      <td>192</td>\n",
       "      <td>0.1</td>\n",
       "      <td>1</td>\n",
       "      <td>1.0720</td>\n",
       "      <td>16.8117</td>\n",
       "    </tr>\n",
       "    <tr>\n",
       "      <th>2</th>\n",
       "      <td>457</td>\n",
       "      <td>0.2</td>\n",
       "      <td>1</td>\n",
       "      <td>1.0761</td>\n",
       "      <td>16.7117</td>\n",
       "    </tr>\n",
       "    <tr>\n",
       "      <th>3</th>\n",
       "      <td>425</td>\n",
       "      <td>0.3</td>\n",
       "      <td>1</td>\n",
       "      <td>1.0803</td>\n",
       "      <td>16.6117</td>\n",
       "    </tr>\n",
       "    <tr>\n",
       "      <th>4</th>\n",
       "      <td>380</td>\n",
       "      <td>0.4</td>\n",
       "      <td>1</td>\n",
       "      <td>1.0844</td>\n",
       "      <td>16.5117</td>\n",
       "    </tr>\n",
       "    <tr>\n",
       "      <th>...</th>\n",
       "      <td>...</td>\n",
       "      <td>...</td>\n",
       "      <td>...</td>\n",
       "      <td>...</td>\n",
       "      <td>...</td>\n",
       "    </tr>\n",
       "    <tr>\n",
       "      <th>196</th>\n",
       "      <td>1138</td>\n",
       "      <td>19.6</td>\n",
       "      <td>1</td>\n",
       "      <td>1.1357</td>\n",
       "      <td>15.1380</td>\n",
       "    </tr>\n",
       "    <tr>\n",
       "      <th>197</th>\n",
       "      <td>1022</td>\n",
       "      <td>19.7</td>\n",
       "      <td>1</td>\n",
       "      <td>1.1401</td>\n",
       "      <td>15.0380</td>\n",
       "    </tr>\n",
       "    <tr>\n",
       "      <th>198</th>\n",
       "      <td>1308</td>\n",
       "      <td>19.8</td>\n",
       "      <td>1</td>\n",
       "      <td>1.1445</td>\n",
       "      <td>14.9380</td>\n",
       "    </tr>\n",
       "    <tr>\n",
       "      <th>199</th>\n",
       "      <td>1189</td>\n",
       "      <td>19.9</td>\n",
       "      <td>1</td>\n",
       "      <td>1.1489</td>\n",
       "      <td>14.8380</td>\n",
       "    </tr>\n",
       "    <tr>\n",
       "      <th>200</th>\n",
       "      <td>1166</td>\n",
       "      <td>20.0</td>\n",
       "      <td>1</td>\n",
       "      <td>1.1534</td>\n",
       "      <td>14.7380</td>\n",
       "    </tr>\n",
       "  </tbody>\n",
       "</table>\n",
       "<p>201 rows × 5 columns</p>\n",
       "</div>"
      ]
     },
     "metadata": {},
     "execution_count": 2
    }
   ],
   "metadata": {}
  },
  {
   "cell_type": "code",
   "execution_count": 3,
   "source": [
    "fig, ax1 = plt.subplots()\n",
    "\n",
    "ax2 = ax1.twinx()\n",
    "ax1.plot(df_2.time,df_2.cell_size, '--',color='black', linewidth=1.5, label='size', alpha=0.7)\n",
    "ax2.plot(df_2.time,df_2.protein,'ro', alpha=0.5, linewidth=0.5, ms=1, label='Protein')\n",
    "\n",
    "ax1.set_xlabel('Time(h)')\n",
    "ax1.set_ylabel(r'Size (${\\mu}$m)')\n",
    "ax2.set_ylabel('Protein Levels')\n",
    "plt.title('Implemented Division')\n",
    "ax2.grid()\n",
    "plt.legend(loc=5)"
   ],
   "outputs": [
    {
     "output_type": "execute_result",
     "data": {
      "text/plain": [
       "<matplotlib.legend.Legend at 0x7fd3df67bd90>"
      ]
     },
     "metadata": {},
     "execution_count": 3
    },
    {
     "output_type": "display_data",
     "data": {
      "text/plain": [
       "<Figure size 432x288 with 2 Axes>"
      ],
      "image/png": "[encoded data removed]"
     },
     "metadata": {
      "needs_background": "light"
     }
    }
   ],
   "metadata": {}
  },
  {
   "cell_type": "code",
   "execution_count": 4,
   "source": [
    "birth_death_model.calculate_sorted_tau()"
   ],
   "outputs": [
    {
     "output_type": "execute_result",
     "data": {
      "text/plain": [
       "{'translation': 0.012879040094973598,\n",
       " 'degradation': inf,\n",
       " 'reference_division_time': 0}"
      ]
     },
     "metadata": {},
     "execution_count": 4
    }
   ],
   "metadata": {}
  }
 ],
 "metadata": {
  "orig_nbformat": 4,
  "language_info": {
   "name": "python",
   "version": "3.9.5",
   "mimetype": "text/x-python",
   "codemirror_mode": {
    "name": "ipython",
    "version": 3
   },
   "pygments_lexer": "ipython3",
   "nbconvert_exporter": "python",
   "file_extension": ".py"
  },
  "kernelspec": {
   "name": "python3",
   "display_name": "Python 3.9.5 64-bit ('gsim': conda)"
  },
  "interpreter": {
   "hash": "b01412023c51a3078b0a98df019d7e29ec27d3d95200540575b7d7e23c5a9df8"
  }
 },
 "nbformat": 4,
 "nbformat_minor": 2
}