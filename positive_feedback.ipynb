{
 "cells": [
  {
   "cell_type": "code",
   "execution_count": 1,
   "source": [
    "import numpy as np \n",
    "import matplotlib.pyplot as plt \n",
    "import pandas as pd\n",
    "import GillespieSim as gs"
   ],
   "outputs": [],
   "metadata": {}
  },
  {
   "cell_type": "code",
   "execution_count": 2,
   "source": [
    "birth_death = gs.ReactionModel(\n",
    "    \n",
    "                                species= {\n",
    "                                            'protein': 0\n",
    "                                            },\n",
    "\n",
    "                                propensities= {\n",
    "                                                'kr': 100, \n",
    "                                                'gamma':10\n",
    "                                                },\n",
    "                                                \n",
    "\n",
    "                                reactions= {\n",
    "                                            'translation':['kr'], \n",
    "                                            'degradation':['gamma', 'protein']\n",
    "                                            },\n",
    "\n",
    "                                q= {\n",
    "                                    'translation': {'create': ['protein']}, \n",
    "                                    'degradation': {'destroy': ['protein']}})"
   ],
   "outputs": [],
   "metadata": {}
  },
  {
   "cell_type": "code",
   "execution_count": 3,
   "source": [
    "positive_feedback = gs.Gillespie(tmax=1, sampling_time = 0.01,reaction_model = birth_death, model_name='positive_feedback', cells=1)\n",
    "positive_feedback.simulate()"
   ],
   "outputs": [
    {
     "output_type": "stream",
     "name": "stderr",
     "text": [
      "100%|██████████| 1/1 [00:00<00:00, 55.79it/s]\n"
     ]
    }
   ],
   "metadata": {}
  },
  {
   "cell_type": "code",
   "execution_count": 4,
   "source": [
    "df = pd.read_csv('positive_feedback.csv', delimiter='|')\n",
    "df.head()"
   ],
   "outputs": [
    {
     "output_type": "execute_result",
     "data": {
      "text/html": [
       "<div>\n",
       "<style scoped>\n",
       "    .dataframe tbody tr th:only-of-type {\n",
       "        vertical-align: middle;\n",
       "    }\n",
       "\n",
       "    .dataframe tbody tr th {\n",
       "        vertical-align: top;\n",
       "    }\n",
       "\n",
       "    .dataframe thead th {\n",
       "        text-align: right;\n",
       "    }\n",
       "</style>\n",
       "<table border=\"1\" class=\"dataframe\">\n",
       "  <thead>\n",
       "    <tr style=\"text-align: right;\">\n",
       "      <th></th>\n",
       "      <th>protein</th>\n",
       "      <th>time</th>\n",
       "      <th>cell</th>\n",
       "    </tr>\n",
       "  </thead>\n",
       "  <tbody>\n",
       "    <tr>\n",
       "      <th>0</th>\n",
       "      <td>0</td>\n",
       "      <td>0.00</td>\n",
       "      <td>1</td>\n",
       "    </tr>\n",
       "    <tr>\n",
       "      <th>1</th>\n",
       "      <td>0</td>\n",
       "      <td>0.01</td>\n",
       "      <td>1</td>\n",
       "    </tr>\n",
       "    <tr>\n",
       "      <th>2</th>\n",
       "      <td>0</td>\n",
       "      <td>0.02</td>\n",
       "      <td>1</td>\n",
       "    </tr>\n",
       "    <tr>\n",
       "      <th>3</th>\n",
       "      <td>1</td>\n",
       "      <td>0.03</td>\n",
       "      <td>1</td>\n",
       "    </tr>\n",
       "    <tr>\n",
       "      <th>4</th>\n",
       "      <td>1</td>\n",
       "      <td>0.04</td>\n",
       "      <td>1</td>\n",
       "    </tr>\n",
       "  </tbody>\n",
       "</table>\n",
       "</div>"
      ],
      "text/plain": [
       "   protein  time  cell\n",
       "0        0  0.00     1\n",
       "1        0  0.01     1\n",
       "2        0  0.02     1\n",
       "3        1  0.03     1\n",
       "4        1  0.04     1"
      ]
     },
     "metadata": {},
     "execution_count": 4
    }
   ],
   "metadata": {}
  },
  {
   "cell_type": "code",
   "execution_count": 5,
   "source": [
    "plt.plot(df.time, df.protein, 'ro', ms=2, label='mRNA')\n",
    "plt.grid(True)\n",
    "plt.title('Simple Birth Death Process')\n",
    "plt.xlabel('Time (min)')\n",
    "plt.ylabel('mRNA Quantity')\n",
    "plt.legend(loc=5)"
   ],
   "outputs": [
    {
     "output_type": "execute_result",
     "data": {
      "text/plain": [
       "<matplotlib.legend.Legend at 0x7f7915f4e5b0>"
      ]
     },
     "metadata": {},
     "execution_count": 5
    },
    {
     "output_type": "display_data",
     "data": {
      "image/png": "[encoded data removed]",
      "text/plain": [
       "<Figure size 432x288 with 1 Axes>"
      ]
     },
     "metadata": {
      "needs_background": "light"
     }
    }
   ],
   "metadata": {}
  },
  {
   "cell_type": "code",
   "execution_count": 6,
   "source": [
    "repressilator = gs.ReactionModel(\n",
    "                                species = {\n",
    "                                                'tetR': 550,\n",
    "                                                'lacI': 1600,\n",
    "                                                'alphacl': 1000,\n",
    "                                                'GFP': 100\n",
    "                                                },\n",
    "\n",
    "                                propensities = {\n",
    "                                                'kd_tetR': 0.02,\n",
    "                                                'kd_lacI': 0.02,\n",
    "                                                'kd_alphacl': 0.02,\n",
    "                                                'kc_GFP': 0.05,\n",
    "                                                'kd_GFP': 1/100000\n",
    "                                                },\n",
    "                                \n",
    "                                reactions = {\n",
    "                                                'PdtetR':       ['kd_tetR', 'alphacl'],\n",
    "                                                'PdlacI':       ['kd_lacI', 'tetR'],\n",
    "                                                'Pdalphacl':    ['kd_alphacl', 'lacI'],\n",
    "                                                'GFP_cre' :     ['kc_GFP', 'lacI'],\n",
    "                                                'GFP_des':      ['kd_GFP', 'tetR', 'GFP']\n",
    "                                                },\n",
    "                                \n",
    "                                q = {\n",
    "                                        'PdtetR':       {'create': ['lacI'],    'destroy': ['tetR']},\n",
    "                                        'PdlacI':       {'create': ['alphacl'], 'destroy': ['lacI']},\n",
    "                                        'Pdalphacl':    {'create': ['tetR'],    'destroy': ['alphacl']},\n",
    "                                        'GFP_cre':      {'create': ['GFP']},\n",
    "                                        'GFP_des':      {'destroy': ['GFP']}\n",
    "                                        }\n",
    "                                )\n"
   ],
   "outputs": [],
   "metadata": {}
  },
  {
   "cell_type": "code",
   "execution_count": 7,
   "source": [
    "repre = gs.Gillespie(tmax=50, sampling_time = 5,reaction_model = repressilator, model_name='repre', cells=1)\n",
    "repre.simulate()"
   ],
   "outputs": [
    {
     "output_type": "stream",
     "name": "stderr",
     "text": [
      "100%|██████████| 1/1 [00:00<00:00,  2.20it/s]\n"
     ]
    }
   ],
   "metadata": {}
  },
  {
   "cell_type": "code",
   "execution_count": 8,
   "source": [
    "df = pd.read_csv('repre.csv', delimiter='|')\n",
    "df.head()"
   ],
   "outputs": [
    {
     "output_type": "execute_result",
     "data": {
      "text/html": [
       "<div>\n",
       "<style scoped>\n",
       "    .dataframe tbody tr th:only-of-type {\n",
       "        vertical-align: middle;\n",
       "    }\n",
       "\n",
       "    .dataframe tbody tr th {\n",
       "        vertical-align: top;\n",
       "    }\n",
       "\n",
       "    .dataframe thead th {\n",
       "        text-align: right;\n",
       "    }\n",
       "</style>\n",
       "<table border=\"1\" class=\"dataframe\">\n",
       "  <thead>\n",
       "    <tr style=\"text-align: right;\">\n",
       "      <th></th>\n",
       "      <th>tetR</th>\n",
       "      <th>lacI</th>\n",
       "      <th>alphacl</th>\n",
       "      <th>GFP</th>\n",
       "      <th>time</th>\n",
       "      <th>cell</th>\n",
       "    </tr>\n",
       "  </thead>\n",
       "  <tbody>\n",
       "    <tr>\n",
       "      <th>0</th>\n",
       "      <td>550</td>\n",
       "      <td>1600</td>\n",
       "      <td>1000</td>\n",
       "      <td>100</td>\n",
       "      <td>0</td>\n",
       "      <td>1</td>\n",
       "    </tr>\n",
       "    <tr>\n",
       "      <th>1</th>\n",
       "      <td>623</td>\n",
       "      <td>1640</td>\n",
       "      <td>887</td>\n",
       "      <td>465</td>\n",
       "      <td>5</td>\n",
       "      <td>1</td>\n",
       "    </tr>\n",
       "    <tr>\n",
       "      <th>2</th>\n",
       "      <td>697</td>\n",
       "      <td>1670</td>\n",
       "      <td>783</td>\n",
       "      <td>883</td>\n",
       "      <td>10</td>\n",
       "      <td>1</td>\n",
       "    </tr>\n",
       "    <tr>\n",
       "      <th>3</th>\n",
       "      <td>762</td>\n",
       "      <td>1693</td>\n",
       "      <td>695</td>\n",
       "      <td>1276</td>\n",
       "      <td>15</td>\n",
       "      <td>1</td>\n",
       "    </tr>\n",
       "    <tr>\n",
       "      <th>4</th>\n",
       "      <td>826</td>\n",
       "      <td>1675</td>\n",
       "      <td>649</td>\n",
       "      <td>1646</td>\n",
       "      <td>20</td>\n",
       "      <td>1</td>\n",
       "    </tr>\n",
       "  </tbody>\n",
       "</table>\n",
       "</div>"
      ],
      "text/plain": [
       "   tetR  lacI  alphacl   GFP  time  cell\n",
       "0   550  1600     1000   100     0     1\n",
       "1   623  1640      887   465     5     1\n",
       "2   697  1670      783   883    10     1\n",
       "3   762  1693      695  1276    15     1\n",
       "4   826  1675      649  1646    20     1"
      ]
     },
     "metadata": {},
     "execution_count": 8
    }
   ],
   "metadata": {}
  },
  {
   "cell_type": "code",
   "execution_count": 9,
   "source": [
    "plt.plot(df.time, df.tetR, 'yo', ms=0.5)\n",
    "plt.plot(df.time, df.lacI, 'ro', ms=0.5)\n",
    "plt.plot(df.time, df.alphacl, 'bo', ms=0.5)"
   ],
   "outputs": [
    {
     "output_type": "execute_result",
     "data": {
      "text/plain": [
       "[<matplotlib.lines.Line2D at 0x7f7915622e80>]"
      ]
     },
     "metadata": {},
     "execution_count": 9
    },
    {
     "output_type": "display_data",
     "data": {
      "image/png": "[encoded data removed]",
      "text/plain": [
       "<Figure size 432x288 with 1 Axes>"
      ]
     },
     "metadata": {
      "needs_background": "light"
     }
    }
   ],
   "metadata": {}
  },
  {
   "cell_type": "code",
   "execution_count": 10,
   "source": [
    "plt.plot(df.time, df.GFP, 'go', ms=0.5)"
   ],
   "outputs": [
    {
     "output_type": "execute_result",
     "data": {
      "text/plain": [
       "[<matplotlib.lines.Line2D at 0x7f79155fce50>]"
      ]
     },
     "metadata": {},
     "execution_count": 10
    },
    {
     "output_type": "display_data",
     "data": {
      "image/png": "[encoded data removed]",
      "text/plain": [
       "<Figure size 432x288 with 1 Axes>"
      ]
     },
     "metadata": {
      "needs_background": "light"
     }
    }
   ],
   "metadata": {}
  },
  {
   "cell_type": "code",
   "execution_count": 15,
   "source": [
    "import numpy as np \n",
    "import matplotlib.pyplot as plt \n",
    "import pandas as pd\n",
    "import GillespieSim as gs\n",
    "\n",
    "birth_death = gs.ReactionModel(\n",
    "    \n",
    "                                species= {\n",
    "                                            'protein': 0\n",
    "                                            },\n",
    "\n",
    "                                propensities= {\n",
    "                                                'kr': 10, \n",
    "                                                'gamma':1\n",
    "                                                },\n",
    "\n",
    "                                reactions= {\n",
    "                                            'translation':['kr'], \n",
    "                                            'degradation':['gamma', 'protein']\n",
    "                                            },\n",
    "\n",
    "                                q= {\n",
    "                                    'translation': {'burst': ['protein']}, \n",
    "                                    'degradation': {'destroy': ['protein']}\n",
    "                                    })\n",
    "\n",
    "birth_death_model = gs.Gillespie(tmax=40, sampling_time =0.1,reaction_model = birth_death, model_name='bd', cells=1)\n",
    "birth_death_model.simulate_division(model='adder')"
   ],
   "outputs": [
    {
     "output_type": "stream",
     "name": "stderr",
     "text": [
      "100%|██████████| 1/1 [00:15<00:00, 15.15s/it]\n"
     ]
    }
   ],
   "metadata": {}
  },
  {
   "cell_type": "code",
   "execution_count": 16,
   "source": [
    "df_2 = pd.read_csv('bd.csv', delimiter='|')\n",
    "df_2"
   ],
   "outputs": [
    {
     "output_type": "execute_result",
     "data": {
      "text/html": [
       "<div>\n",
       "<style scoped>\n",
       "    .dataframe tbody tr th:only-of-type {\n",
       "        vertical-align: middle;\n",
       "    }\n",
       "\n",
       "    .dataframe tbody tr th {\n",
       "        vertical-align: top;\n",
       "    }\n",
       "\n",
       "    .dataframe thead th {\n",
       "        text-align: right;\n",
       "    }\n",
       "</style>\n",
       "<table border=\"1\" class=\"dataframe\">\n",
       "  <thead>\n",
       "    <tr style=\"text-align: right;\">\n",
       "      <th></th>\n",
       "      <th>protein</th>\n",
       "      <th>time</th>\n",
       "      <th>cell</th>\n",
       "      <th>cell_size</th>\n",
       "      <th>division_time</th>\n",
       "    </tr>\n",
       "  </thead>\n",
       "  <tbody>\n",
       "    <tr>\n",
       "      <th>0</th>\n",
       "      <td>0</td>\n",
       "      <td>0.0</td>\n",
       "      <td>1</td>\n",
       "      <td>0.9051</td>\n",
       "      <td>20.6217</td>\n",
       "    </tr>\n",
       "    <tr>\n",
       "      <th>1</th>\n",
       "      <td>286</td>\n",
       "      <td>0.1</td>\n",
       "      <td>1</td>\n",
       "      <td>0.9086</td>\n",
       "      <td>20.5217</td>\n",
       "    </tr>\n",
       "    <tr>\n",
       "      <th>2</th>\n",
       "      <td>401</td>\n",
       "      <td>0.2</td>\n",
       "      <td>1</td>\n",
       "      <td>0.9121</td>\n",
       "      <td>20.4217</td>\n",
       "    </tr>\n",
       "    <tr>\n",
       "      <th>3</th>\n",
       "      <td>784</td>\n",
       "      <td>0.3</td>\n",
       "      <td>1</td>\n",
       "      <td>0.9156</td>\n",
       "      <td>20.3217</td>\n",
       "    </tr>\n",
       "    <tr>\n",
       "      <th>4</th>\n",
       "      <td>838</td>\n",
       "      <td>0.4</td>\n",
       "      <td>1</td>\n",
       "      <td>0.9191</td>\n",
       "      <td>20.2217</td>\n",
       "    </tr>\n",
       "    <tr>\n",
       "      <th>...</th>\n",
       "      <td>...</td>\n",
       "      <td>...</td>\n",
       "      <td>...</td>\n",
       "      <td>...</td>\n",
       "      <td>...</td>\n",
       "    </tr>\n",
       "    <tr>\n",
       "      <th>396</th>\n",
       "      <td>1281</td>\n",
       "      <td>39.6</td>\n",
       "      <td>1</td>\n",
       "      <td>1.0396</td>\n",
       "      <td>16.7049</td>\n",
       "    </tr>\n",
       "    <tr>\n",
       "      <th>397</th>\n",
       "      <td>1306</td>\n",
       "      <td>39.7</td>\n",
       "      <td>1</td>\n",
       "      <td>1.0437</td>\n",
       "      <td>16.6049</td>\n",
       "    </tr>\n",
       "    <tr>\n",
       "      <th>398</th>\n",
       "      <td>1319</td>\n",
       "      <td>39.8</td>\n",
       "      <td>1</td>\n",
       "      <td>1.0477</td>\n",
       "      <td>16.5049</td>\n",
       "    </tr>\n",
       "    <tr>\n",
       "      <th>399</th>\n",
       "      <td>1327</td>\n",
       "      <td>39.9</td>\n",
       "      <td>1</td>\n",
       "      <td>1.0517</td>\n",
       "      <td>16.4049</td>\n",
       "    </tr>\n",
       "    <tr>\n",
       "      <th>400</th>\n",
       "      <td>1353</td>\n",
       "      <td>40.0</td>\n",
       "      <td>1</td>\n",
       "      <td>1.0558</td>\n",
       "      <td>16.3049</td>\n",
       "    </tr>\n",
       "  </tbody>\n",
       "</table>\n",
       "<p>401 rows × 5 columns</p>\n",
       "</div>"
      ],
      "text/plain": [
       "     protein  time  cell  cell_size  division_time\n",
       "0          0   0.0     1     0.9051        20.6217\n",
       "1        286   0.1     1     0.9086        20.5217\n",
       "2        401   0.2     1     0.9121        20.4217\n",
       "3        784   0.3     1     0.9156        20.3217\n",
       "4        838   0.4     1     0.9191        20.2217\n",
       "..       ...   ...   ...        ...            ...\n",
       "396     1281  39.6     1     1.0396        16.7049\n",
       "397     1306  39.7     1     1.0437        16.6049\n",
       "398     1319  39.8     1     1.0477        16.5049\n",
       "399     1327  39.9     1     1.0517        16.4049\n",
       "400     1353  40.0     1     1.0558        16.3049\n",
       "\n",
       "[401 rows x 5 columns]"
      ]
     },
     "metadata": {},
     "execution_count": 16
    }
   ],
   "metadata": {}
  },
  {
   "cell_type": "code",
   "execution_count": 17,
   "source": [
    "fig, ax1 = plt.subplots()\n",
    "\n",
    "ax2 = ax1.twinx()\n",
    "ax1.plot(df_2.time,df_2.cell_size, '--',color='black', linewidth=1.5, label='size', alpha=0.7)\n",
    "ax2.plot(df_2.time,df_2.protein,'ro', alpha=0.5, linewidth=0.5, ms=1, label='Protein')\n",
    "\n",
    "ax1.set_xlabel('Time(h)')\n",
    "ax1.set_ylabel(r'Size (${\\mu}$m)')\n",
    "ax2.set_ylabel('Protein Levels')\n",
    "plt.title('Implemented Division')\n",
    "ax2.grid()\n",
    "plt.legend(loc=5)"
   ],
   "outputs": [
    {
     "output_type": "execute_result",
     "data": {
      "text/plain": [
       "<matplotlib.legend.Legend at 0x7f791495b160>"
      ]
     },
     "metadata": {},
     "execution_count": 17
    },
    {
     "output_type": "display_data",
     "data": {
      "image/png": "[encoded data removed]",
      "text/plain": [
       "<Figure size 432x288 with 2 Axes>"
      ]
     },
     "metadata": {
      "needs_background": "light"
     }
    }
   ],
   "metadata": {}
  },
  {
   "cell_type": "code",
   "execution_count": 18,
   "source": [
    "birth_death_model.calculate_sorted_tau()"
   ],
   "outputs": [
    {
     "output_type": "execute_result",
     "data": {
      "text/plain": [
       "{'translation': 0.020754323010586453,\n",
       " 'degradation': inf,\n",
       " 'reference_division_time': 0}"
      ]
     },
     "metadata": {},
     "execution_count": 18
    }
   ],
   "metadata": {}
  }
 ],
 "metadata": {
  "orig_nbformat": 4,
  "language_info": {
   "name": "python",
   "version": "3.9.5",
   "mimetype": "text/x-python",
   "codemirror_mode": {
    "name": "ipython",
    "version": 3
   },
   "pygments_lexer": "ipython3",
   "nbconvert_exporter": "python",
   "file_extension": ".py"
  },
  "kernelspec": {
   "name": "python3",
   "display_name": "Python 3.9.5 64-bit ('gsim': conda)"
  },
  "interpreter": {
   "hash": "b01412023c51a3078b0a98df019d7e29ec27d3d95200540575b7d7e23c5a9df8"
  }
 },
 "nbformat": 4,
 "nbformat_minor": 2
}