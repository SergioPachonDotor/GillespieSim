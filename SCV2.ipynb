{
 "cells": [
  {
   "cell_type": "code",
   "execution_count": 2,
   "source": [
    "import numpy as np \n",
    "import matplotlib.pyplot as plt \n",
    "import pandas as pd\n",
    "import GillespieSim as gs"
   ],
   "outputs": [],
   "metadata": {}
  },
  {
   "cell_type": "code",
   "execution_count": 3,
   "source": [
    "# np.random.seed(12345)\n",
    "infection_model = gs.ReactionModel(\n",
    "                species = {\n",
    "                    'healthy_cells': 1000,\n",
    "                    'infected_cells': 1000,\n",
    "                },\n",
    "                propensities = {\n",
    "                    'division_helthy_cells': 1.09,\n",
    "                    # 'division_infected_cells': 10,\n",
    "\n",
    "                    'infection_rate' : 1/1000,\n",
    "\n",
    "                    'apoptosis': 0.1,\n",
    "                    'infected_cell_apoptosis': 1\n",
    "                },\n",
    "                reactions = {\n",
    "                    'cell_infection' :      ['infection_rate', 'healthy_cells', 'infected_cells'],\n",
    "                    'cell_apoptosis' :      ['apoptosis', 'healthy_cells'],\n",
    "                    'ic_apoptosis':         ['infected_cell_apoptosis', 'infected_cells'],\n",
    "                    'cell_division' :       ['division_helthy_cells', 'healthy_cells'],\n",
    "                    # 'ic_division' :         ['division_infected_cells', 'infected_cells'],\n",
    "                },\n",
    "                q = {\n",
    "                    'cell_infection' :      {'create' : ['infected_cells'], 'destroy': ['healthy_cells']},\n",
    "                    'cell_apoptosis' :      {'destroy' : ['healthy_cells', 'infected_cells']},\n",
    "                    'ic_apoptosis' :        {'destroy' : ['infected_cells']},\n",
    "                    'cell_division' :       {'create' : ['healthy_cells']},\n",
    "                    # 'ic_division' :         {'create' : ['infected_cells']},\n",
    "                }\n",
    ")\n",
    "tmax = 10\n",
    "infection_model_sim = gs.Gillespie(reaction_model=infection_model, model_name='simulation_data/SCV2_tau_off', tmax=tmax, sampling_time=0.01, cells=100000, chunk_lenght=1000)\n",
    "infection_model_sim.get_time_distribution(mode='single_switch', initial_state='on', species_name='infected_cells', threshold=0)\n",
    "# infection_model_sim.simulate()"
   ],
   "outputs": [
    {
     "output_type": "stream",
     "name": "stderr",
     "text": [
      "100%|██████████| 100000/100000 [00:12<00:00, 7783.80it/s]\n"
     ]
    }
   ],
   "metadata": {}
  },
  {
   "cell_type": "code",
   "execution_count": 4,
   "source": [
    "df = pd.read_csv('./simulation_data/SCV2_tau_off.csv')\n",
    "df"
   ],
   "outputs": [
    {
     "output_type": "execute_result",
     "data": {
      "text/html": [
       "<div>\n",
       "<style scoped>\n",
       "    .dataframe tbody tr th:only-of-type {\n",
       "        vertical-align: middle;\n",
       "    }\n",
       "\n",
       "    .dataframe tbody tr th {\n",
       "        vertical-align: top;\n",
       "    }\n",
       "\n",
       "    .dataframe thead th {\n",
       "        text-align: right;\n",
       "    }\n",
       "</style>\n",
       "<table border=\"1\" class=\"dataframe\">\n",
       "  <thead>\n",
       "    <tr style=\"text-align: right;\">\n",
       "      <th></th>\n",
       "      <th>healthy_cells</th>\n",
       "      <th>infected_cells</th>\n",
       "      <th>time</th>\n",
       "      <th>cell</th>\n",
       "    </tr>\n",
       "  </thead>\n",
       "  <tbody>\n",
       "    <tr>\n",
       "      <th>0</th>\n",
       "      <td>3047</td>\n",
       "      <td>0</td>\n",
       "      <td>29.330354</td>\n",
       "      <td>0</td>\n",
       "    </tr>\n",
       "    <tr>\n",
       "      <th>1</th>\n",
       "      <td>3048</td>\n",
       "      <td>0</td>\n",
       "      <td>29.331185</td>\n",
       "      <td>1</td>\n",
       "    </tr>\n",
       "    <tr>\n",
       "      <th>2</th>\n",
       "      <td>3049</td>\n",
       "      <td>0</td>\n",
       "      <td>29.331452</td>\n",
       "      <td>2</td>\n",
       "    </tr>\n",
       "    <tr>\n",
       "      <th>3</th>\n",
       "      <td>3050</td>\n",
       "      <td>0</td>\n",
       "      <td>29.332144</td>\n",
       "      <td>3</td>\n",
       "    </tr>\n",
       "    <tr>\n",
       "      <th>4</th>\n",
       "      <td>3049</td>\n",
       "      <td>0</td>\n",
       "      <td>29.332207</td>\n",
       "      <td>4</td>\n",
       "    </tr>\n",
       "    <tr>\n",
       "      <th>...</th>\n",
       "      <td>...</td>\n",
       "      <td>...</td>\n",
       "      <td>...</td>\n",
       "      <td>...</td>\n",
       "    </tr>\n",
       "    <tr>\n",
       "      <th>99995</th>\n",
       "      <td>86678</td>\n",
       "      <td>0</td>\n",
       "      <td>32.688064</td>\n",
       "      <td>99995</td>\n",
       "    </tr>\n",
       "    <tr>\n",
       "      <th>99996</th>\n",
       "      <td>86679</td>\n",
       "      <td>0</td>\n",
       "      <td>32.688070</td>\n",
       "      <td>99996</td>\n",
       "    </tr>\n",
       "    <tr>\n",
       "      <th>99997</th>\n",
       "      <td>86680</td>\n",
       "      <td>0</td>\n",
       "      <td>32.688070</td>\n",
       "      <td>99997</td>\n",
       "    </tr>\n",
       "    <tr>\n",
       "      <th>99998</th>\n",
       "      <td>86679</td>\n",
       "      <td>0</td>\n",
       "      <td>32.688081</td>\n",
       "      <td>99998</td>\n",
       "    </tr>\n",
       "    <tr>\n",
       "      <th>99999</th>\n",
       "      <td>86680</td>\n",
       "      <td>0</td>\n",
       "      <td>32.688091</td>\n",
       "      <td>99999</td>\n",
       "    </tr>\n",
       "  </tbody>\n",
       "</table>\n",
       "<p>100000 rows × 4 columns</p>\n",
       "</div>"
      ],
      "text/plain": [
       "       healthy_cells  infected_cells       time   cell\n",
       "0               3047               0  29.330354      0\n",
       "1               3048               0  29.331185      1\n",
       "2               3049               0  29.331452      2\n",
       "3               3050               0  29.332144      3\n",
       "4               3049               0  29.332207      4\n",
       "...              ...             ...        ...    ...\n",
       "99995          86678               0  32.688064  99995\n",
       "99996          86679               0  32.688070  99996\n",
       "99997          86680               0  32.688070  99997\n",
       "99998          86679               0  32.688081  99998\n",
       "99999          86680               0  32.688091  99999\n",
       "\n",
       "[100000 rows x 4 columns]"
      ]
     },
     "metadata": {},
     "execution_count": 4
    }
   ],
   "metadata": {}
  },
  {
   "cell_type": "code",
   "execution_count": 5,
   "source": [
    "df = pd.read_csv('./simulation_data/SCV2_tau_off.csv')\n",
    "\n",
    "fig, ax = plt.subplots()\n",
    "ax.plot(df['time'], df['healthy_cells'], '-' ,lw=1,color='blue', label= r'$Healthy Cells$')\n",
    "# ax.plot(df['infected_cells'], '-' ,color='red', label= r'$Infected Cells$')\n",
    "\n",
    "fig.set_size_inches(20, 4)\n",
    "\n",
    "ax.set_title('Infection Model')\n",
    "\n",
    "ax.set_xlabel('Time (Days)')\n",
    "ax.set_ylabel('Cell Population Dynamics')\n",
    "ax.legend(loc=5)\n",
    "\n",
    "# ax.set_yscale('log')\n",
    "ax.grid(True)\n",
    "# ax.set_ylim(0,5)\n"
   ],
   "outputs": [
    {
     "output_type": "display_data",
     "data": {
      "image/png": "[encoded data removed]",
      "text/plain": [
       "<Figure size 1440x288 with 1 Axes>"
      ]
     },
     "metadata": {
      "needs_background": "light"
     }
    }
   ],
   "metadata": {}
  },
  {
   "cell_type": "code",
   "execution_count": 6,
   "source": [
    "plt.hist(df['time'], bins=30, density=True, color='blue', alpha=0.65);\n",
    "# plt.yscale('log')"
   ],
   "outputs": [
    {
     "output_type": "display_data",
     "data": {
      "image/png": "[encoded data removed]",
      "text/plain": [
       "<Figure size 432x288 with 1 Axes>"
      ]
     },
     "metadata": {
      "needs_background": "light"
     }
    }
   ],
   "metadata": {}
  },
  {
   "cell_type": "code",
   "execution_count": 10,
   "source": [
    "# np.random.seed(12345)\n",
    "infection_model = gs.ReactionModel(\n",
    "                species = {\n",
    "                    'healthy_cells': 1000,\n",
    "                    'infected_cells': 1,\n",
    "                },\n",
    "                propensities = {\n",
    "                    'division_helthy_cells': 1.1,\n",
    "                    # 'division_infected_cells': 10,\n",
    "\n",
    "                    'infection_rate' : 1/10, # Infects 1 of 1000 cells\n",
    "\n",
    "                    'apoptosis': 1.12, # (45.83 days (50 generations * 22 hours per division/1 generation))*1 day/24 hours\n",
    "                    'infected_cell_apoptosis': 1.15\n",
    "                },\n",
    "                reactions = {\n",
    "                    'cell_infection' :      ['infection_rate', 'healthy_cells', 'infected_cells'],\n",
    "                    'cell_apoptosis' :      ['apoptosis', 'healthy_cells'],\n",
    "                    'ic_apoptosis':         ['infected_cell_apoptosis', 'infected_cells'],\n",
    "                    'cell_division' :       ['division_helthy_cells', 'healthy_cells'],\n",
    "                    # 'ic_division' :         ['division_infected_cells', 'infected_cells'],\n",
    "                },\n",
    "                q = {\n",
    "                    'cell_infection' :      {'create' : ['infected_cells'], 'destroy': ['healthy_cells']},\n",
    "                    'cell_apoptosis' :      {'destroy' : ['healthy_cells', 'infected_cells']},\n",
    "                    'ic_apoptosis' :        {'destroy' : ['infected_cells']},\n",
    "                    'cell_division' :       {'create' : ['healthy_cells']},\n",
    "                    # 'ic_division' :         {'create' : ['infected_cells']},\n",
    "                }\n",
    ")\n",
    "tmax = 150\n",
    "infection_model_sim = gs.Gillespie(reaction_model=infection_model, model_name='simulation_data/SCV2', tmax=tmax, sampling_time=0.1, cells=1)\n",
    "# infection_model_sim.time_distribution(mode='single_switch', initial_state='on', species_name='infected_cells', threshold=0)\n",
    "infection_model_sim.simulate()"
   ],
   "outputs": [
    {
     "output_type": "stream",
     "name": "stderr",
     "text": [
      "100%|██████████| 1/1 [00:06<00:00,  6.09s/it]\n"
     ]
    }
   ],
   "metadata": {}
  },
  {
   "cell_type": "code",
   "execution_count": 9,
   "source": [
    "df = pd.read_csv('simulation_data/SCV2.csv')\n",
    "\n",
    "plt.plot(df['time'],df['infected_cells'])\n",
    "plt.plot(df['time'],df['healthy_cells'])"
   ],
   "outputs": [
    {
     "output_type": "execute_result",
     "data": {
      "text/plain": [
       "[<matplotlib.lines.Line2D at 0x7f4671adc520>]"
      ]
     },
     "metadata": {},
     "execution_count": 9
    },
    {
     "output_type": "display_data",
     "data": {
      "image/png": "[encoded data removed]",
      "text/plain": [
       "<Figure size 432x288 with 1 Axes>"
      ]
     },
     "metadata": {
      "needs_background": "light"
     }
    }
   ],
   "metadata": {}
  }
 ],
 "metadata": {
  "orig_nbformat": 4,
  "language_info": {
   "name": "python",
   "version": "3.9.5",
   "mimetype": "text/x-python",
   "codemirror_mode": {
    "name": "ipython",
    "version": 3
   },
   "pygments_lexer": "ipython3",
   "nbconvert_exporter": "python",
   "file_extension": ".py"
  },
  "kernelspec": {
   "name": "python3",
   "display_name": "Python 3.9.5 64-bit ('gsim': conda)"
  },
  "interpreter": {
   "hash": "b01412023c51a3078b0a98df019d7e29ec27d3d95200540575b7d7e23c5a9df8"
  }
 },
 "nbformat": 4,
 "nbformat_minor": 2
}