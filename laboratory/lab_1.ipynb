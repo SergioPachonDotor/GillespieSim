{
 "metadata": {
  "language_info": {
   "codemirror_mode": {
    "name": "ipython",
    "version": 3
   },
   "file_extension": ".py",
   "mimetype": "text/x-python",
   "name": "python",
   "nbconvert_exporter": "python",
   "pygments_lexer": "ipython3",
   "version": "3.9.5"
  },
  "orig_nbformat": 4,
  "kernelspec": {
   "name": "python3",
   "display_name": "Python 3.9.5 64-bit ('gsim': conda)"
  },
  "interpreter": {
   "hash": "b01412023c51a3078b0a98df019d7e29ec27d3d95200540575b7d7e23c5a9df8"
  }
 },
 "nbformat": 4,
 "nbformat_minor": 2,
 "cells": [
  {
   "cell_type": "code",
   "execution_count": 2,
   "source": [
    "from itertools import starmap\n",
    "\n",
    "species_values = {'A':6, 'B': 2, 'C': 6}\n",
    "eqs = {'D': lambda x,y: x ** y, 'E': lambda x: x ** 8}\n",
    "to_solve = {'D': ['A', 'B'], 'E': ['C']}\n",
    "\n",
    "values_list = [[[species_values[value] for value in list]] for list in list(to_solve.values())]\n",
    "eqs_list = list(eqs.values())\n",
    "\n",
    "ultramap = [list(starmap(eqs_list[i], values_list[i])) for i in range(len(list(eqs.keys())))]"
   ],
   "outputs": [],
   "metadata": {}
  },
  {
   "cell_type": "code",
   "execution_count": 3,
   "source": [
    "from itertools import starmap\n",
    "\n",
    "species_values = {'A':6, 'B': 2, 'C': 6}\n",
    "eqs = {'D': lambda x,y: x ** y, 'E': lambda x: x ** 8}\n",
    "to_solve = {'D': ['A', 'B'], 'E': ['C']}\n",
    "\n",
    "values_list = [[[species_values[value] for value in list]] for list in list(to_solve.values())]\n",
    "eqs_list = list(eqs.values())\n",
    "\n",
    "ultramap = [list(starmap(eqs_list[i], values_list[i])) for i in range(len(list(eqs.keys())))]\n",
    "print(ultramap)"
   ],
   "outputs": [
    {
     "output_type": "stream",
     "name": "stdout",
     "text": [
      "[[36], [1679616]]\n"
     ]
    }
   ],
   "metadata": {}
  },
  {
   "cell_type": "code",
   "execution_count": 4,
   "source": [
    "a = [[1, 2],[2, 3]]\n",
    "\n",
    "[print(i,v) for i,v in a]"
   ],
   "outputs": [
    {
     "output_type": "stream",
     "name": "stdout",
     "text": [
      "1 2\n",
      "2 3\n"
     ]
    },
    {
     "output_type": "execute_result",
     "data": {
      "text/plain": [
       "[None, None]"
      ]
     },
     "metadata": {},
     "execution_count": 4
    }
   ],
   "metadata": {}
  },
  {
   "cell_type": "code",
   "execution_count": 14,
   "source": [
    "import numpy as np\n",
    "import matplotlib.pyplot as plt\n",
    "\n",
    "def bacteria_size(birth_size=1, division_time=18, tmax=10, dt=0.01, division_size=2.0): # sb: micrometros | dt: min\n",
    "    size_storage = []\n",
    "    time_storage = []\n",
    "    time = 0\n",
    "    counter = 0\n",
    "\n",
    "    while counter < tmax:\n",
    "\n",
    "        mu = np.log(2)/division_time\n",
    "        size = birth_size * np.exp(mu*time)\n",
    "        reference_tau = 1/mu * np.log(division_size/birth_size)\n",
    "\n",
    "        size_storage.append(size)\n",
    "        time_storage.append(counter)\n",
    "\n",
    "        if size >= division_size:\n",
    "            time = 0\n",
    "\n",
    "        elif size < division_size:\n",
    "            time += dt\n",
    "\n",
    "        counter += dt\n",
    "    return time_storage, size_storage\n",
    "\n",
    "div_s = 2\n",
    "sb = np.random.normal(loc=div_s/2, scale=0.1*(div_s/2))\n",
    "\n",
    "\n",
    "time, size = bacteria_size(birth_size=sb,tmax=90) \n",
    "plt.plot(time, size, lw=0.8, color='k', label='E. coli Size') \n",
    "plt.grid(True)\n",
    "\n",
    "plt.legend(loc=5)\n",
    "\n",
    "plt.xlabel('Time (min)')\n",
    "plt.ylabel(r'Size (${\\mu}$m)')\n",
    "plt.ylim(0, 3)\n",
    "\n",
    "plt.title('E.coli Size Model')"
   ],
   "outputs": [
    {
     "output_type": "execute_result",
     "data": {
      "text/plain": [
       "Text(0.5, 1.0, 'E.coli Size Model')"
      ]
     },
     "metadata": {},
     "execution_count": 14
    },
    {
     "output_type": "display_data",
     "data": {
      "text/plain": [
       "<Figure size 432x288 with 1 Axes>"
      ],
      "image/png": "[encoded data removed]"
     },
     "metadata": {
      "needs_background": "light"
     }
    }
   ],
   "metadata": {}
  },
  {
   "cell_type": "code",
   "execution_count": 2,
   "source": [
    "s0=1\n",
    "mu=np.log(2)\n",
    "k=10*np.log(2)\n",
    "tmax = 15\n",
    "\n",
    "t=0#tiempo\n",
    "y=0#condicion inicial\n",
    "\n",
    "\n",
    "tarray=[]\n",
    "yarray=[]\n",
    "samp_time=0.001\n",
    "tref=0\n",
    "\n",
    "while t<tmax: \n",
    "    R=np.random.rand()\n",
    "    tocc=(1/mu)*np.log(1-(mu*np.log(R)/(k*s0*np.exp(mu*t))))\n",
    "    if t+tocc<tref:\n",
    "        y+=1\n",
    "        t+=tocc\n",
    "    else:\n",
    "        t=tref       \n",
    "        tarray.append(t)\n",
    "        yarray.append(y/(s0*np.exp(mu*t)))\n",
    "        tref+=samp_time    \n",
    "plt.plot(tarray,yarray)"
   ],
   "outputs": [
    {
     "output_type": "execute_result",
     "data": {
      "text/plain": [
       "[<matplotlib.lines.Line2D at 0x7f19eb4a5760>]"
      ]
     },
     "metadata": {},
     "execution_count": 2
    },
    {
     "output_type": "display_data",
     "data": {
      "text/plain": [
       "<Figure size 432x288 with 1 Axes>"
      ],
      "image/png": "[encoded data removed]"
     },
     "metadata": {
      "needs_background": "light"
     }
    }
   ],
   "metadata": {}
  }
 ]
}