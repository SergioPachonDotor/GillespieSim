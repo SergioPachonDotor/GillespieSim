{
 "metadata": {
  "language_info": {
   "codemirror_mode": {
    "name": "ipython",
    "version": 3
   },
   "file_extension": ".py",
   "mimetype": "text/x-python",
   "name": "python",
   "nbconvert_exporter": "python",
   "pygments_lexer": "ipython3",
   "version": "3.9.5"
  },
  "orig_nbformat": 4,
  "kernelspec": {
   "name": "python3",
   "display_name": "Python 3.9.5 64-bit ('gsim': conda)"
  },
  "interpreter": {
   "hash": "b01412023c51a3078b0a98df019d7e29ec27d3d95200540575b7d7e23c5a9df8"
  }
 },
 "nbformat": 4,
 "nbformat_minor": 2,
 "cells": [
  {
   "cell_type": "code",
   "execution_count": 1,
   "metadata": {},
   "outputs": [],
   "source": [
    "from itertools import starmap\n",
    "\n",
    "species_values = {'A':6, 'B': 2, 'C': 6}\n",
    "eqs = {'D': lambda x,y: x ** y, 'E': lambda x: x ** 8}\n",
    "to_solve = {'D': ['A', 'B'], 'E': ['C']}\n",
    "\n",
    "values_list = [[[species_values[value] for value in list]] for list in list(to_solve.values())]\n",
    "eqs_list = list(eqs.values())\n",
    "\n",
    "ultramap = [list(starmap(eqs_list[i], values_list[i])) for i in range(len(list(eqs.keys())))]"
   ]
  },
  {
   "cell_type": "code",
   "execution_count": null,
   "metadata": {},
   "outputs": [],
   "source": [
    "from itertools import starmap\n",
    "\n",
    "species_values = {'A':6, 'B': 2, 'C': 6}\n",
    "eqs = {'D': lambda x,y: x ** y, 'E': lambda x: x ** 8}\n",
    "to_solve = {'D': ['A', 'B'], 'E': ['C']}\n",
    "\n",
    "values_list = [[[species_values[value] for value in list]] for list in list(to_solve.values())]\n",
    "eqs_list = list(eqs.values())\n",
    "\n",
    "ultramap = [list(starmap(eqs_list[i], values_list[i])) for i in range(len(list(eqs.keys())))]\n",
    "print(ultramap)"
   ]
  },
  {
   "cell_type": "code",
   "execution_count": null,
   "metadata": {},
   "outputs": [],
   "source": [
    "a = [[1, 2],[2, 3]]\n",
    "\n",
    "[print(i,v) for i,v in a]"
   ]
  }
 ]
}