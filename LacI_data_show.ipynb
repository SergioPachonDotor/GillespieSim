{
 "cells": [
  {
   "cell_type": "code",
   "execution_count": 2,
   "source": [
    "import numpy as np \n",
    "import matplotlib.pyplot as plt \n",
    "import pandas as pd\n",
    "import GillespieSim as gs"
   ],
   "outputs": [],
   "metadata": {}
  },
  {
   "cell_type": "code",
   "execution_count": 3,
   "source": [
    "\n",
    "def permease_solution(mrna, permease, tau):\n",
    "    gamma = 0.0231\n",
    "    alpha = 1000\n",
    "    k_p = 0.00231\n",
    "    yss = ((alpha * k_p * mrna)/gamma)\n",
    "    return  yss + (permease - yss) * np.exp(-gamma*tau)\n",
    "\n",
    "\n",
    "def beta(tmg):\n",
    "    return 0.00123 * pow(tmg, 0.6)\n",
    "\n",
    "\n",
    "def intrtmg(beta, permease):\n",
    "    return  beta * permease\n",
    "\n",
    "\n",
    "def tetramers(monomers):\n",
    "    if monomers > 0:\n",
    "        result = monomers/100\n",
    "    else:\n",
    "        result = 0\n",
    "    return result\n",
    "   \n",
    "\n",
    "def activelacI(intrtmg, tetramers):\n",
    "    if intrtmg > 0:\n",
    "        initialtmg = 0.12\n",
    "        n = 2   \n",
    "        tetramers = round(tetramers, 4)\n",
    "        intrtmg = round(intrtmg, 4)\n",
    "        result = round(1/((1 + (intrtmg/initialtmg)**n) * tetramers), 4)\n",
    "    else:\n",
    "        result = 0\n",
    "    return result\n",
    "\n",
    "    \n",
    "\n",
    "def monomers(monomers, tau):\n",
    "    if monomers >= 0:\n",
    "        k_R = 15.4\n",
    "        gamma = 0.0231\n",
    "        result = (k_R - gamma * monomers)*tau\n",
    "    else:\n",
    "        result =  0\n",
    "    return result\n",
    "\n",
    "\n",
    "def promoter_on(tetramers):\n",
    "    if tetramers > 0:\n",
    "        R_0 = 0.04\n",
    "        lamda_lacI = 15\n",
    "        result = lamda_lacI*(R_0/tetramers)\n",
    "    else:\n",
    "        result = 0\n",
    "    return result\n",
    "    \n",
    "\n",
    "def promoter_off(activelacI,tetramers):    \n",
    "    if tetramers > 0:\n",
    "        lamda_lacI = 15\n",
    "        result = lamda_lacI*(activelacI/tetramers)\n",
    "    else:\n",
    "        result = 0\n",
    "    return result\n"
   ],
   "outputs": [],
   "metadata": {}
  },
  {
   "cell_type": "code",
   "execution_count": 4,
   "source": [
    "\n",
    "\n",
    "lacI_model = gs.ReactionModel(\n",
    "\n",
    "        species = {\n",
    "                'Promoter': 1,\n",
    "                'mRNA': 0,\n",
    "                'Beta': 0,              \n",
    "                'Intracellular_tmg': 0,\n",
    "                'LacI_Tetramers': 0,   \n",
    "                'Active_LacI': 0,      \n",
    "                'Permease': 0,        \n",
    "                'LacI_monomer': 0,\n",
    "                'TMG': 40,\n",
    "                'Promoter_on': 0,\n",
    "                'Promoter_off':0},  \n",
    "        \n",
    "        propensities = {\n",
    "                        'kc_mRNA': 2,\n",
    "                        'kd_mRNA': np.log(2)/2.5},\n",
    "\n",
    "        reactions = {\n",
    "                        'Transcription':        ['kc_mRNA', 'Promoter'],\n",
    "                        'mRNA_Degradation':     ['kd_mRNA', 'mRNA'],\n",
    "                        'Promoter_activation':  ['Promoter_on'],\n",
    "                        'Promoter_inactivation':['Promoter_off']},\n",
    "        \n",
    "        q = {\n",
    "                'Transcription':         {'create':       ['mRNA']},\n",
    "                'mRNA_Degradation':      {'destroy':      ['mRNA']},\n",
    "                'Promoter_activation':   {'activate':     ['Promoter']},\n",
    "                'Promoter_inactivation': {'deactivate':   ['Promoter']}},\n",
    "                \n",
    "        math_model= {\n",
    "                        'Beta':                beta,\n",
    "                        'Intracellular_tmg':   intrtmg,\n",
    "                        'LacI_Tetramers':      tetramers,\n",
    "                        'Active_LacI':         activelacI,\n",
    "                        'Permease':            permease_solution,\n",
    "                        'LacI_monomer':        monomers,\n",
    "                        'Promoter_on':         promoter_on,\n",
    "                        'Promoter_off':        promoter_off},\n",
    "\n",
    "        interaction_map = {       \n",
    "                        'Beta':                 ['TMG'],\n",
    "                        'Intracellular_tmg':    ['Beta', 'Permease'],\n",
    "                        'LacI_Tetramers':       ['LacI_monomer'],\n",
    "                        'Active_LacI':          ['Intracellular_tmg', 'LacI_Tetramers'],\n",
    "                        'Permease':             ['mRNA', 'Permease', 'Tau'],\n",
    "                        'LacI_monomer':         ['LacI_monomer', 'Tau'],\n",
    "                        'Promoter_on':          ['LacI_Tetramers'],\n",
    "                        'Promoter_off':         ['Active_LacI', 'LacI_Tetramers']})"
   ],
   "outputs": [],
   "metadata": {}
  },
  {
   "cell_type": "code",
   "execution_count": 5,
   "source": [
    "lacI_model.show_eqs()\n",
    "lacI_model.show_species()"
   ],
   "outputs": [
    {
     "output_type": "execute_result",
     "data": {
      "text/plain": [
       "{'Promoter': 1,\n",
       " 'mRNA': 0,\n",
       " 'Beta': 0,\n",
       " 'Intracellular_tmg': 0,\n",
       " 'LacI_Tetramers': 0,\n",
       " 'Active_LacI': 0,\n",
       " 'Permease': 0,\n",
       " 'LacI_monomer': 0,\n",
       " 'TMG': 40,\n",
       " 'Promoter_on': 0,\n",
       " 'Promoter_off': 0}"
      ]
     },
     "metadata": {},
     "execution_count": 5
    }
   ],
   "metadata": {}
  },
  {
   "cell_type": "code",
   "execution_count": 6,
   "source": [
    "LacI_sim = gs.Gillespie(tmax=720, sampling_time = 0.1,reaction_model = lacI_model, model_name='lacI_model', cells=1)\n",
    "LacI_sim.simulate()"
   ],
   "outputs": [
    {
     "output_type": "stream",
     "name": "stderr",
     "text": [
      "100%|██████████| 1/1 [00:02<00:00,  2.27s/it]\n"
     ]
    }
   ],
   "metadata": {
    "tags": []
   }
  },
  {
   "cell_type": "code",
   "execution_count": 7,
   "source": [
    "lacI_model.show_eqs()\n",
    "lacI_model.show_species()"
   ],
   "outputs": [
    {
     "output_type": "execute_result",
     "data": {
      "text/plain": [
       "{'Promoter': 0,\n",
       " 'mRNA': 0,\n",
       " 'Beta': 0.0112,\n",
       " 'Intracellular_tmg': 0.0,\n",
       " 'LacI_Tetramers': inf,\n",
       " 'Active_LacI': 0,\n",
       " 'Permease': 0.0,\n",
       " 'LacI_monomer': -inf,\n",
       " 'TMG': 40,\n",
       " 'Promoter_on': 0,\n",
       " 'Promoter_off': 0}"
      ]
     },
     "metadata": {},
     "execution_count": 7
    }
   ],
   "metadata": {}
  },
  {
   "cell_type": "code",
   "execution_count": 8,
   "source": [
    "df = pd.read_csv('lacI_model.csv', delimiter='|')\n",
    "df.head()"
   ],
   "outputs": [
    {
     "output_type": "execute_result",
     "data": {
      "text/plain": [
       "   Promoter  mRNA    Beta  Intracellular_tmg  LacI_Tetramers  Active_LacI  \\\n",
       "0         1     0  0.0112             0.0000          0.0000       0.0000   \n",
       "1         1     1  0.0112             0.0000          0.0043       0.0000   \n",
       "2         1     2  0.0112             0.0230          0.0014     158.3189   \n",
       "3         0     2  0.0112             0.0511          0.0000          inf   \n",
       "4         0     2  0.0112             0.1057          0.1682          inf   \n",
       "\n",
       "   Permease  LacI_monomer  TMG  Promoter_on  Promoter_off  time  cell  \n",
       "0    0.0000        5.1313   40       0.0000        0.0000   0.0     1  \n",
       "1    1.9221       12.9307   40      11.6959        0.0000   0.1     1  \n",
       "2    4.5666        8.5114   40      98.3607    18426.3934   0.2     1  \n",
       "3    9.4365       16.8230   40       0.0000        0.0000   0.3     1  \n",
       "4   13.0441       12.4204   40       0.0000        0.0000   0.4     1  "
      ],
      "text/html": [
       "<div>\n",
       "<style scoped>\n",
       "    .dataframe tbody tr th:only-of-type {\n",
       "        vertical-align: middle;\n",
       "    }\n",
       "\n",
       "    .dataframe tbody tr th {\n",
       "        vertical-align: top;\n",
       "    }\n",
       "\n",
       "    .dataframe thead th {\n",
       "        text-align: right;\n",
       "    }\n",
       "</style>\n",
       "<table border=\"1\" class=\"dataframe\">\n",
       "  <thead>\n",
       "    <tr style=\"text-align: right;\">\n",
       "      <th></th>\n",
       "      <th>Promoter</th>\n",
       "      <th>mRNA</th>\n",
       "      <th>Beta</th>\n",
       "      <th>Intracellular_tmg</th>\n",
       "      <th>LacI_Tetramers</th>\n",
       "      <th>Active_LacI</th>\n",
       "      <th>Permease</th>\n",
       "      <th>LacI_monomer</th>\n",
       "      <th>TMG</th>\n",
       "      <th>Promoter_on</th>\n",
       "      <th>Promoter_off</th>\n",
       "      <th>time</th>\n",
       "      <th>cell</th>\n",
       "    </tr>\n",
       "  </thead>\n",
       "  <tbody>\n",
       "    <tr>\n",
       "      <th>0</th>\n",
       "      <td>1</td>\n",
       "      <td>0</td>\n",
       "      <td>0.0112</td>\n",
       "      <td>0.0000</td>\n",
       "      <td>0.0000</td>\n",
       "      <td>0.0000</td>\n",
       "      <td>0.0000</td>\n",
       "      <td>5.1313</td>\n",
       "      <td>40</td>\n",
       "      <td>0.0000</td>\n",
       "      <td>0.0000</td>\n",
       "      <td>0.0</td>\n",
       "      <td>1</td>\n",
       "    </tr>\n",
       "    <tr>\n",
       "      <th>1</th>\n",
       "      <td>1</td>\n",
       "      <td>1</td>\n",
       "      <td>0.0112</td>\n",
       "      <td>0.0000</td>\n",
       "      <td>0.0043</td>\n",
       "      <td>0.0000</td>\n",
       "      <td>1.9221</td>\n",
       "      <td>12.9307</td>\n",
       "      <td>40</td>\n",
       "      <td>11.6959</td>\n",
       "      <td>0.0000</td>\n",
       "      <td>0.1</td>\n",
       "      <td>1</td>\n",
       "    </tr>\n",
       "    <tr>\n",
       "      <th>2</th>\n",
       "      <td>1</td>\n",
       "      <td>2</td>\n",
       "      <td>0.0112</td>\n",
       "      <td>0.0230</td>\n",
       "      <td>0.0014</td>\n",
       "      <td>158.3189</td>\n",
       "      <td>4.5666</td>\n",
       "      <td>8.5114</td>\n",
       "      <td>40</td>\n",
       "      <td>98.3607</td>\n",
       "      <td>18426.3934</td>\n",
       "      <td>0.2</td>\n",
       "      <td>1</td>\n",
       "    </tr>\n",
       "    <tr>\n",
       "      <th>3</th>\n",
       "      <td>0</td>\n",
       "      <td>2</td>\n",
       "      <td>0.0112</td>\n",
       "      <td>0.0511</td>\n",
       "      <td>0.0000</td>\n",
       "      <td>inf</td>\n",
       "      <td>9.4365</td>\n",
       "      <td>16.8230</td>\n",
       "      <td>40</td>\n",
       "      <td>0.0000</td>\n",
       "      <td>0.0000</td>\n",
       "      <td>0.3</td>\n",
       "      <td>1</td>\n",
       "    </tr>\n",
       "    <tr>\n",
       "      <th>4</th>\n",
       "      <td>0</td>\n",
       "      <td>2</td>\n",
       "      <td>0.0112</td>\n",
       "      <td>0.1057</td>\n",
       "      <td>0.1682</td>\n",
       "      <td>inf</td>\n",
       "      <td>13.0441</td>\n",
       "      <td>12.4204</td>\n",
       "      <td>40</td>\n",
       "      <td>0.0000</td>\n",
       "      <td>0.0000</td>\n",
       "      <td>0.4</td>\n",
       "      <td>1</td>\n",
       "    </tr>\n",
       "  </tbody>\n",
       "</table>\n",
       "</div>"
      ]
     },
     "metadata": {},
     "execution_count": 8
    }
   ],
   "metadata": {}
  },
  {
   "cell_type": "code",
   "execution_count": 9,
   "source": [
    "plt.title('Permease State')\n",
    "plt.ylabel('Permease')\n",
    "plt.xlabel('Time (min)')\n",
    "plt.plot(df.time, df.Permease, 'g', lw=0.9)\n",
    "plt.grid(True)"
   ],
   "outputs": [
    {
     "output_type": "display_data",
     "data": {
      "text/plain": [
       "<Figure size 432x288 with 1 Axes>"
      ],
      "image/png": "[encoded data removed]"
     },
     "metadata": {
      "needs_background": "light"
     }
    }
   ],
   "metadata": {}
  },
  {
   "cell_type": "code",
   "execution_count": 10,
   "source": [
    "plt.title('Intracellular TMG')\n",
    "plt.ylabel('TMG')\n",
    "plt.xlabel('Time (min)')\n",
    "plt.plot(df.time, df.Intracellular_tmg, 'g', lw=0.9)\n",
    "plt.grid(True)"
   ],
   "outputs": [
    {
     "output_type": "display_data",
     "data": {
      "text/plain": [
       "<Figure size 432x288 with 1 Axes>"
      ],
      "image/png": "[encoded data removed]"
     },
     "metadata": {
      "needs_background": "light"
     }
    }
   ],
   "metadata": {}
  },
  {
   "cell_type": "code",
   "execution_count": 11,
   "source": [
    "plt.title('mRNA Stochastic Expression')\n",
    "plt.ylabel('mRNA')\n",
    "plt.xlabel('Time (min)')\n",
    "plt.plot(df.time, df.mRNA, 'ro', ms=0.5)\n",
    "plt.grid(True)"
   ],
   "outputs": [
    {
     "output_type": "display_data",
     "data": {
      "text/plain": [
       "<Figure size 432x288 with 1 Axes>"
      ],
      "image/png": "[encoded data removed]"
     },
     "metadata": {
      "needs_background": "light"
     }
    }
   ],
   "metadata": {}
  },
  {
   "cell_type": "code",
   "execution_count": 12,
   "source": [
    "plt.title('Active LacI')\n",
    "plt.ylabel('Active LacI')\n",
    "plt.xlabel('Time (min)')\n",
    "plt.plot(df.time, df.Active_LacI, 'g', lw=0.9)\n",
    "plt.grid(True)"
   ],
   "outputs": [
    {
     "output_type": "display_data",
     "data": {
      "text/plain": [
       "<Figure size 432x288 with 1 Axes>"
      ],
      "image/png": "[encoded data removed]"
     },
     "metadata": {
      "needs_background": "light"
     }
    }
   ],
   "metadata": {}
  },
  {
   "cell_type": "code",
   "execution_count": 13,
   "source": [
    "plt.xlabel('Time (min)')\n",
    "plt.ylabel('Promoter State')\n",
    "plt.title('Promoter')\n",
    "plt.plot(df.time, df.Promoter, 'ko', ms=0.1)\n",
    "plt.grid(True)"
   ],
   "outputs": [
    {
     "output_type": "display_data",
     "data": {
      "text/plain": [
       "<Figure size 432x288 with 1 Axes>"
      ],
      "image/png": "[encoded data removed]"
     },
     "metadata": {
      "needs_background": "light"
     }
    }
   ],
   "metadata": {}
  },
  {
   "cell_type": "code",
   "execution_count": 14,
   "source": [
    "plt.xlabel('Time (min)')\n",
    "plt.ylabel('Tetramers')\n",
    "plt.title('Tetramers State')\n",
    "plt.plot(df.time, df.LacI_Tetramers, 'ko',ms= 0.5, lw=0.5)\n",
    "plt.grid(True)"
   ],
   "outputs": [
    {
     "output_type": "display_data",
     "data": {
      "text/plain": [
       "<Figure size 432x288 with 1 Axes>"
      ],
      "image/png": "[encoded data removed]"
     },
     "metadata": {
      "needs_background": "light"
     }
    }
   ],
   "metadata": {}
  },
  {
   "cell_type": "code",
   "execution_count": 15,
   "source": [
    "lacI_model.show_species()"
   ],
   "outputs": [
    {
     "output_type": "execute_result",
     "data": {
      "text/plain": [
       "{'Promoter': 0,\n",
       " 'mRNA': 0,\n",
       " 'Beta': 0.0112,\n",
       " 'Intracellular_tmg': 0.0,\n",
       " 'LacI_Tetramers': inf,\n",
       " 'Active_LacI': 0,\n",
       " 'Permease': 0.0,\n",
       " 'LacI_monomer': -inf,\n",
       " 'TMG': 40,\n",
       " 'Promoter_on': 0,\n",
       " 'Promoter_off': 0}"
      ]
     },
     "metadata": {},
     "execution_count": 15
    }
   ],
   "metadata": {}
  }
 ],
 "metadata": {
  "interpreter": {
   "hash": "b01412023c51a3078b0a98df019d7e29ec27d3d95200540575b7d7e23c5a9df8"
  },
  "kernelspec": {
   "display_name": "Python 3.9.5 64-bit ('gsim': conda)",
   "name": "python3"
  },
  "language_info": {
   "codemirror_mode": {
    "name": "ipython",
    "version": 3
   },
   "file_extension": ".py",
   "mimetype": "text/x-python",
   "name": "python",
   "nbconvert_exporter": "python",
   "pygments_lexer": "ipython3",
   "version": "3.9.5"
  },
  "orig_nbformat": 4
 },
 "nbformat": 4,
 "nbformat_minor": 2
}