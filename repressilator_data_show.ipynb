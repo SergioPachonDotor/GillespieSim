{
 "cells": [
  {
   "cell_type": "code",
   "execution_count": 1,
   "source": [
    "import numpy as np \n",
    "import matplotlib.pyplot as plt \n",
    "import pandas as pd\n",
    "import GillespieSim as gs"
   ],
   "outputs": [],
   "metadata": {}
  },
  {
   "cell_type": "markdown",
   "source": [
    "LacI ---| TetR,\n",
    "\n",
    "TetR ---| Alpha Cl,\n",
    "\n",
    "Alpha Cl ---| LacI"
   ],
   "metadata": {}
  },
  {
   "cell_type": "code",
   "execution_count": 2,
   "source": [
    "repressilator = gs.ReactionModel(\n",
    "                                species = {\n",
    "                                                'tetR': 0,\n",
    "                                                'lacI': 0,\n",
    "                                                'alphacl': 0,\n",
    "                                                'GFP': 0,\n",
    "\n",
    "                                                'tetR_mRNA': 0,\n",
    "                                                'lacI_mRNA': 0, \n",
    "                                                'alphacl_mRNA': 0,\n",
    "                                                'GFP_mRNA': 0,\n",
    "                                                \n",
    "                                                'complex_tetR': 0,\n",
    "                                                'complex_lacI': 0,\n",
    "                                                'complex_alphacl': 0,\n",
    "                                                'complex_GFP': 0,\n",
    "\n",
    "                                                'promoter_tetR': 1,\n",
    "                                                'promoter_lacI': 1,\n",
    "                                                'promoter_alphacl': 1,\n",
    "                                                'promoter_GFP': 1\n",
    "                                                },\n",
    "\n",
    "                                propensities = {\n",
    "                                                'kc_tetR': 10.02,\n",
    "                                                'kc_lacI': 10.02,\n",
    "                                                'kc_alphacl': 10.02,\n",
    "                                                'kc_GFP': 10.02,\n",
    "\n",
    "                                                'kd_tetR': np.log(2)/30,\n",
    "                                                'kd_lacI': np.log(2)/30,\n",
    "                                                'kd_alphacl': np.log(2)/30,\n",
    "                                                'kd_GFP': np.log(2)/30,\n",
    "\n",
    "                                                'ka_c_tetR': 0.95,\n",
    "                                                'ka_c_lacI': 0.95,\n",
    "                                                'ka_c_alphacl': 0.95,\n",
    "                                                'ka_c_GFP': 0.95,\n",
    "\n",
    "                                                'kd_c_tetR': 0.267,\n",
    "                                                'kd_c_lacI': 0.267,\n",
    "                                                'kd_c_alphacl': 0.267,\n",
    "                                                'kd_c_GFP': 0.267,\n",
    "\n",
    "                                                'kc_mRNA_tetR': 2,\n",
    "                                                'kc_mRNA_lacI': 2,\n",
    "                                                'kc_mRNA_alphacl': 2,\n",
    "                                                'kc_mRNA_GFP': 2,\n",
    "\n",
    "                                                'kd_mRNA_tetR': np.log(2)/2.5,\n",
    "                                                'kd_mRNA_lacI': np.log(2)/2.5,\n",
    "                                                'kd_mRNA_alphacl': np.log(2)/2.5,\n",
    "                                                'kd_mRNA_GFP': np.log(2)/2.5\n",
    "                                                },\n",
    "\n",
    "\n",
    "                                reactions = {\n",
    "                                                'PctetR':       ['kc_tetR', 'tetR_mRNA'],\n",
    "                                                'PclacI':       ['kc_lacI', 'lacI_mRNA'],\n",
    "                                                'Pcalphacl':    ['kc_alphacl', 'alphacl_mRNA'],\n",
    "                                                'GFP_cre' :     ['kc_GFP', 'GFP_mRNA'],\n",
    "\n",
    "                                                'PdtetR':       ['kd_tetR', 'tetR'],\n",
    "                                                'PdlacI':       ['kd_lacI', 'lacI'],\n",
    "                                                'Pdalphacl':    ['kd_alphacl', 'alphacl'],                                               \n",
    "                                                'GFP_des':      ['kd_GFP', 'GFP'],\n",
    "\n",
    "                                                'Ac_tetR':      ['ka_c_tetR', 'lacI', 'promoter_tetR'],\n",
    "                                                'Ac_lacI':      ['ka_c_lacI', 'alphacl', 'promoter_lacI'],\n",
    "                                                'Ac_alphacl':   ['ka_c_alphacl', 'tetR', 'promoter_alphacl'],\n",
    "                                                'Ac_GFP':       ['ka_c_GFP', 'tetR', 'promoter_GFP'],\n",
    "\n",
    "                                                'Dc_tetR':      ['kd_c_tetR', 'complex_tetR'],\n",
    "                                                'Dc_lacI':      ['kd_c_lacI', 'complex_lacI'],\n",
    "                                                'Dc_alphacl':   ['kd_c_alphacl', 'complex_alphacl'],\n",
    "                                                'Dc_GFP' :      ['kd_c_GFP', 'complex_GFP'],\n",
    "\n",
    "                                                'Tr_mRNA_tetR':         ['kc_mRNA_tetR', 'promoter_tetR'],\n",
    "                                                'Tr_mRNA_lacI':         ['kc_mRNA_lacI', 'promoter_lacI'],\n",
    "                                                'Tr_mRNA_alphacl':      ['kc_mRNA_alphacl', 'promoter_alphacl'],\n",
    "                                                'Tr_mRNA_GFP':          ['kc_mRNA_GFP', 'promoter_GFP'],\n",
    "                \n",
    "                                                'Dc_mRNA_tetR':         ['kd_mRNA_tetR', 'tetR_mRNA'],\n",
    "                                                'Dc_mRNA_lacI':         ['kd_mRNA_lacI', 'lacI_mRNA'],\n",
    "                                                'Dc_mRNA_alphacl':      ['kd_mRNA_alphacl', 'alphacl_mRNA'],\n",
    "                                                'Dc_mRNA_GFP':          ['kd_mRNA_GFP', 'GFP_mRNA']\n",
    "                                                },\n",
    "                                \n",
    "                                q = {   'PctetR':       {'create': ['tetR']},\n",
    "                                        'PclacI':       {'create': ['lacI']},\n",
    "                                        'Pcalphacl':    {'create': ['alphacl']},\n",
    "                                        'GFP_cre':      {'create': ['GFP']},\n",
    "\n",
    "                                        'PdtetR':       {'destroy': ['tetR']},\n",
    "                                        'PdlacI':       {'destroy': ['lacI']},\n",
    "                                        'Pdalphacl':    {'destroy': ['alphacl']},           \n",
    "                                        'GFP_des':      {'destroy': ['GFP']},\n",
    "\n",
    "                                        'Ac_tetR' :     {'create': ['complex_tetR'],    'destroy': ['lacI', 'promoter_tetR']},\n",
    "                                        'Ac_lacI' :     {'create': ['complex_lacI'],    'destroy': ['alphacl', 'promoter_lacI']},\n",
    "                                        'Ac_alphacl' :  {'create': ['complex_alphacl'], 'destroy': ['tetR', 'promoter_alphacl']},\n",
    "                                        'Ac_GFP':       {'create': ['complex_GFP'],     'destroy': ['tetR', 'promoter_GFP']},\n",
    "\n",
    "                                        'Dc_tetR' :     {'create': ['lacI','promoter_tetR'],   'destroy': ['complex_tetR']},\n",
    "                                        'Dc_lacI' :     {'create': ['alphacl','promoter_lacI'],'destroy': ['complex_lacI']},\n",
    "                                        'Dc_alphacl' :  {'create': ['tetR', 'promoter_alphacl'],'destroy': ['complex_alphacl']},\n",
    "                                        'Dc_GFP' :      {'create': ['tetR', 'promoter_GFP'],    'destroy': ['complex_GFP']},\n",
    "\n",
    "                                        'Tr_mRNA_tetR' :        {'create': ['tetR_mRNA']},\n",
    "                                        'Tr_mRNA_lacI' :        {'create': ['lacI_mRNA']},\n",
    "                                        'Tr_mRNA_alphacl' :     {'create': ['alphacl_mRNA']},\n",
    "                                        'Tr_mRNA_GFP' :         {'create': ['GFP_mRNA']},\n",
    "\n",
    "                                        'Dc_mRNA_tetR' :        {'destroy': ['tetR_mRNA']},\n",
    "                                        'Dc_mRNA_lacI' :        {'destroy': ['lacI_mRNA']},\n",
    "                                        'Dc_mRNA_alphacl' :     {'destroy': ['alphacl_mRNA']},\n",
    "                                        'Dc_mRNA_GFP' :         {'destroy': ['GFP_mRNA']}}\n",
    "                                )"
   ],
   "outputs": [],
   "metadata": {}
  },
  {
   "cell_type": "code",
   "execution_count": 3,
   "source": [
    "simulation = gs.Gillespie(tmax=600, sampling_time= 1, reaction_model=repressilator, model_name='repressilator', cells=1)\n",
    "simulation.simulate_gillespie()\n"
   ],
   "outputs": [
    {
     "output_type": "stream",
     "name": "stderr",
     "text": [
      "100%|██████████| 1/1 [00:03<00:00,  3.48s/it]\n"
     ]
    }
   ],
   "metadata": {}
  },
  {
   "cell_type": "code",
   "execution_count": 4,
   "source": [
    "df = pd.read_csv('repressilator.csv', delimiter='|')\n",
    "df"
   ],
   "outputs": [
    {
     "output_type": "execute_result",
     "data": {
      "text/plain": [
       "     tetR  lacI  alphacl  GFP  tetR_mRNA  lacI_mRNA  alphacl_mRNA  GFP_mRNA  \\\n",
       "0       0     0        0    0          0          0             0         0   \n",
       "1       8    12       26    8          1          1             4         2   \n",
       "2      19    21       49   22          1          0             3         2   \n",
       "3      34    19       69   31          1          0             3         1   \n",
       "4      40    18       83   44          1          0             2         1   \n",
       "..    ...   ...      ...  ...        ...        ...           ...       ...   \n",
       "596    89    15        6    0          0          0             0         0   \n",
       "597    84    14        6    0          0          0             0         0   \n",
       "598    86    14        6    0          1          0             0         0   \n",
       "599    93    14        6    0          1          0             0         0   \n",
       "600   101    13        6    0          1          0             0         0   \n",
       "\n",
       "     complex_tetR  complex_lacI  complex_alphacl  complex_GFP  promoter_tetR  \\\n",
       "0               0             0                0            0              1   \n",
       "1               1             1                1            1              0   \n",
       "2               1             1                1            1              0   \n",
       "3               1             1                1            1              0   \n",
       "4               1             1                1            1              0   \n",
       "..            ...           ...              ...          ...            ...   \n",
       "596             1             1                1            1              0   \n",
       "597             1             1                1            1              0   \n",
       "598             1             1                1            1              0   \n",
       "599             1             1                1            1              0   \n",
       "600             1             1                1            1              0   \n",
       "\n",
       "     promoter_lacI  promoter_alphacl  promoter_GFP  time  cell  \n",
       "0                1                 1             1     0     1  \n",
       "1                0                 0             0     1     1  \n",
       "2                0                 0             0     2     1  \n",
       "3                0                 0             0     3     1  \n",
       "4                0                 0             0     4     1  \n",
       "..             ...               ...           ...   ...   ...  \n",
       "596              0                 0             0   596     1  \n",
       "597              0                 0             0   597     1  \n",
       "598              0                 0             0   598     1  \n",
       "599              0                 0             0   599     1  \n",
       "600              0                 0             0   600     1  \n",
       "\n",
       "[601 rows x 18 columns]"
      ],
      "text/html": [
       "<div>\n",
       "<style scoped>\n",
       "    .dataframe tbody tr th:only-of-type {\n",
       "        vertical-align: middle;\n",
       "    }\n",
       "\n",
       "    .dataframe tbody tr th {\n",
       "        vertical-align: top;\n",
       "    }\n",
       "\n",
       "    .dataframe thead th {\n",
       "        text-align: right;\n",
       "    }\n",
       "</style>\n",
       "<table border=\"1\" class=\"dataframe\">\n",
       "  <thead>\n",
       "    <tr style=\"text-align: right;\">\n",
       "      <th></th>\n",
       "      <th>tetR</th>\n",
       "      <th>lacI</th>\n",
       "      <th>alphacl</th>\n",
       "      <th>GFP</th>\n",
       "      <th>tetR_mRNA</th>\n",
       "      <th>lacI_mRNA</th>\n",
       "      <th>alphacl_mRNA</th>\n",
       "      <th>GFP_mRNA</th>\n",
       "      <th>complex_tetR</th>\n",
       "      <th>complex_lacI</th>\n",
       "      <th>complex_alphacl</th>\n",
       "      <th>complex_GFP</th>\n",
       "      <th>promoter_tetR</th>\n",
       "      <th>promoter_lacI</th>\n",
       "      <th>promoter_alphacl</th>\n",
       "      <th>promoter_GFP</th>\n",
       "      <th>time</th>\n",
       "      <th>cell</th>\n",
       "    </tr>\n",
       "  </thead>\n",
       "  <tbody>\n",
       "    <tr>\n",
       "      <th>0</th>\n",
       "      <td>0</td>\n",
       "      <td>0</td>\n",
       "      <td>0</td>\n",
       "      <td>0</td>\n",
       "      <td>0</td>\n",
       "      <td>0</td>\n",
       "      <td>0</td>\n",
       "      <td>0</td>\n",
       "      <td>0</td>\n",
       "      <td>0</td>\n",
       "      <td>0</td>\n",
       "      <td>0</td>\n",
       "      <td>1</td>\n",
       "      <td>1</td>\n",
       "      <td>1</td>\n",
       "      <td>1</td>\n",
       "      <td>0</td>\n",
       "      <td>1</td>\n",
       "    </tr>\n",
       "    <tr>\n",
       "      <th>1</th>\n",
       "      <td>8</td>\n",
       "      <td>12</td>\n",
       "      <td>26</td>\n",
       "      <td>8</td>\n",
       "      <td>1</td>\n",
       "      <td>1</td>\n",
       "      <td>4</td>\n",
       "      <td>2</td>\n",
       "      <td>1</td>\n",
       "      <td>1</td>\n",
       "      <td>1</td>\n",
       "      <td>1</td>\n",
       "      <td>0</td>\n",
       "      <td>0</td>\n",
       "      <td>0</td>\n",
       "      <td>0</td>\n",
       "      <td>1</td>\n",
       "      <td>1</td>\n",
       "    </tr>\n",
       "    <tr>\n",
       "      <th>2</th>\n",
       "      <td>19</td>\n",
       "      <td>21</td>\n",
       "      <td>49</td>\n",
       "      <td>22</td>\n",
       "      <td>1</td>\n",
       "      <td>0</td>\n",
       "      <td>3</td>\n",
       "      <td>2</td>\n",
       "      <td>1</td>\n",
       "      <td>1</td>\n",
       "      <td>1</td>\n",
       "      <td>1</td>\n",
       "      <td>0</td>\n",
       "      <td>0</td>\n",
       "      <td>0</td>\n",
       "      <td>0</td>\n",
       "      <td>2</td>\n",
       "      <td>1</td>\n",
       "    </tr>\n",
       "    <tr>\n",
       "      <th>3</th>\n",
       "      <td>34</td>\n",
       "      <td>19</td>\n",
       "      <td>69</td>\n",
       "      <td>31</td>\n",
       "      <td>1</td>\n",
       "      <td>0</td>\n",
       "      <td>3</td>\n",
       "      <td>1</td>\n",
       "      <td>1</td>\n",
       "      <td>1</td>\n",
       "      <td>1</td>\n",
       "      <td>1</td>\n",
       "      <td>0</td>\n",
       "      <td>0</td>\n",
       "      <td>0</td>\n",
       "      <td>0</td>\n",
       "      <td>3</td>\n",
       "      <td>1</td>\n",
       "    </tr>\n",
       "    <tr>\n",
       "      <th>4</th>\n",
       "      <td>40</td>\n",
       "      <td>18</td>\n",
       "      <td>83</td>\n",
       "      <td>44</td>\n",
       "      <td>1</td>\n",
       "      <td>0</td>\n",
       "      <td>2</td>\n",
       "      <td>1</td>\n",
       "      <td>1</td>\n",
       "      <td>1</td>\n",
       "      <td>1</td>\n",
       "      <td>1</td>\n",
       "      <td>0</td>\n",
       "      <td>0</td>\n",
       "      <td>0</td>\n",
       "      <td>0</td>\n",
       "      <td>4</td>\n",
       "      <td>1</td>\n",
       "    </tr>\n",
       "    <tr>\n",
       "      <th>...</th>\n",
       "      <td>...</td>\n",
       "      <td>...</td>\n",
       "      <td>...</td>\n",
       "      <td>...</td>\n",
       "      <td>...</td>\n",
       "      <td>...</td>\n",
       "      <td>...</td>\n",
       "      <td>...</td>\n",
       "      <td>...</td>\n",
       "      <td>...</td>\n",
       "      <td>...</td>\n",
       "      <td>...</td>\n",
       "      <td>...</td>\n",
       "      <td>...</td>\n",
       "      <td>...</td>\n",
       "      <td>...</td>\n",
       "      <td>...</td>\n",
       "      <td>...</td>\n",
       "    </tr>\n",
       "    <tr>\n",
       "      <th>596</th>\n",
       "      <td>89</td>\n",
       "      <td>15</td>\n",
       "      <td>6</td>\n",
       "      <td>0</td>\n",
       "      <td>0</td>\n",
       "      <td>0</td>\n",
       "      <td>0</td>\n",
       "      <td>0</td>\n",
       "      <td>1</td>\n",
       "      <td>1</td>\n",
       "      <td>1</td>\n",
       "      <td>1</td>\n",
       "      <td>0</td>\n",
       "      <td>0</td>\n",
       "      <td>0</td>\n",
       "      <td>0</td>\n",
       "      <td>596</td>\n",
       "      <td>1</td>\n",
       "    </tr>\n",
       "    <tr>\n",
       "      <th>597</th>\n",
       "      <td>84</td>\n",
       "      <td>14</td>\n",
       "      <td>6</td>\n",
       "      <td>0</td>\n",
       "      <td>0</td>\n",
       "      <td>0</td>\n",
       "      <td>0</td>\n",
       "      <td>0</td>\n",
       "      <td>1</td>\n",
       "      <td>1</td>\n",
       "      <td>1</td>\n",
       "      <td>1</td>\n",
       "      <td>0</td>\n",
       "      <td>0</td>\n",
       "      <td>0</td>\n",
       "      <td>0</td>\n",
       "      <td>597</td>\n",
       "      <td>1</td>\n",
       "    </tr>\n",
       "    <tr>\n",
       "      <th>598</th>\n",
       "      <td>86</td>\n",
       "      <td>14</td>\n",
       "      <td>6</td>\n",
       "      <td>0</td>\n",
       "      <td>1</td>\n",
       "      <td>0</td>\n",
       "      <td>0</td>\n",
       "      <td>0</td>\n",
       "      <td>1</td>\n",
       "      <td>1</td>\n",
       "      <td>1</td>\n",
       "      <td>1</td>\n",
       "      <td>0</td>\n",
       "      <td>0</td>\n",
       "      <td>0</td>\n",
       "      <td>0</td>\n",
       "      <td>598</td>\n",
       "      <td>1</td>\n",
       "    </tr>\n",
       "    <tr>\n",
       "      <th>599</th>\n",
       "      <td>93</td>\n",
       "      <td>14</td>\n",
       "      <td>6</td>\n",
       "      <td>0</td>\n",
       "      <td>1</td>\n",
       "      <td>0</td>\n",
       "      <td>0</td>\n",
       "      <td>0</td>\n",
       "      <td>1</td>\n",
       "      <td>1</td>\n",
       "      <td>1</td>\n",
       "      <td>1</td>\n",
       "      <td>0</td>\n",
       "      <td>0</td>\n",
       "      <td>0</td>\n",
       "      <td>0</td>\n",
       "      <td>599</td>\n",
       "      <td>1</td>\n",
       "    </tr>\n",
       "    <tr>\n",
       "      <th>600</th>\n",
       "      <td>101</td>\n",
       "      <td>13</td>\n",
       "      <td>6</td>\n",
       "      <td>0</td>\n",
       "      <td>1</td>\n",
       "      <td>0</td>\n",
       "      <td>0</td>\n",
       "      <td>0</td>\n",
       "      <td>1</td>\n",
       "      <td>1</td>\n",
       "      <td>1</td>\n",
       "      <td>1</td>\n",
       "      <td>0</td>\n",
       "      <td>0</td>\n",
       "      <td>0</td>\n",
       "      <td>0</td>\n",
       "      <td>600</td>\n",
       "      <td>1</td>\n",
       "    </tr>\n",
       "  </tbody>\n",
       "</table>\n",
       "<p>601 rows × 18 columns</p>\n",
       "</div>"
      ]
     },
     "metadata": {},
     "execution_count": 4
    }
   ],
   "metadata": {}
  },
  {
   "cell_type": "code",
   "execution_count": 5,
   "source": [
    "cells = df.cell.unique()\n",
    "lw = 0.2\n",
    "alpha_fig = 0.8\n",
    "\n",
    "plt.plot(df.time[df.cell==1], df.tetR[df.cell==1], '-', color='orange', lw=1, label= r'$TetR$')\n",
    "plt.plot(df.time[df.cell==1], df.lacI[df.cell==1], '-', color='red', lw=1, label= r'$LacI$')\n",
    "plt.plot(df.time[df.cell==1], df.alphacl[df.cell==1], '-', color='blue', lw=1, label= r'$\\alpha cl$')\n",
    "plt.grid(True)\n",
    "plt.legend(loc=7)\n",
    "plt.title('Repressilator Simulation')\n",
    "plt.ylabel('Protein Amount')\n",
    "plt.xlabel('Time (min)')\n",
    "# plt.yscale('log')"
   ],
   "outputs": [
    {
     "output_type": "execute_result",
     "data": {
      "text/plain": [
       "Text(0.5, 0, 'Time (min)')"
      ]
     },
     "metadata": {},
     "execution_count": 5
    },
    {
     "output_type": "display_data",
     "data": {
      "text/plain": [
       "<Figure size 432x288 with 1 Axes>"
      ],
      "image/png": "[encoded data removed]"
     },
     "metadata": {
      "needs_background": "light"
     }
    }
   ],
   "metadata": {}
  },
  {
   "cell_type": "code",
   "execution_count": 6,
   "source": [
    "cells = df.cell.unique()\n",
    "lw = 1\n",
    "alpha_fig = 0.8\n",
    "# for cell in cells:\n",
    "#     plt.plot(df.time[df.cell==cell], df.GFP[df.cell==cell], '-g', lw=lw, alpha=alpha_fig)\n",
    "plt.grid(True)\n",
    "plt.plot(df.time[df.cell==1], df.GFP[df.cell==1], '-g', lw=lw, label= r'$GFP$')\n",
    "plt.legend(loc=5)\n",
    "plt.title('GFP Modulated by Repressilator')\n",
    "plt.xlabel('Time (min)')\n",
    "plt.ylabel('GFP')\n",
    "# plt.yscale('log')\n",
    "# plt.xlim([0,500])"
   ],
   "outputs": [
    {
     "output_type": "execute_result",
     "data": {
      "text/plain": [
       "Text(0, 0.5, 'GFP')"
      ]
     },
     "metadata": {},
     "execution_count": 6
    },
    {
     "output_type": "display_data",
     "data": {
      "text/plain": [
       "<Figure size 432x288 with 1 Axes>"
      ],
      "image/png": "[encoded data removed]"
     },
     "metadata": {
      "needs_background": "light"
     }
    }
   ],
   "metadata": {}
  },
  {
   "cell_type": "code",
   "execution_count": 7,
   "source": [
    "alpha_fig = 0.5\n",
    "ms = 1\n",
    "cell = 1\n",
    "plt.plot(df.time[df.cell==cell], df.promoter_GFP[df.cell==cell], 'o', color='green', ms=ms, alpha=alpha_fig)\n",
    "plt.plot(df.time[df.cell==cell], df.promoter_tetR[df.cell==cell], 'o', color='orange', ms=ms, alpha=alpha_fig)\n",
    "plt.plot(df.time[df.cell==cell], df.promoter_alphacl[df.cell==cell], 'o', color='blue', ms=ms, alpha=alpha_fig)\n",
    "plt.plot(df.time[df.cell==cell], df.promoter_lacI[df.cell==cell], 'o', color='red', ms=ms, alpha=alpha_fig)\n",
    "plt.grid(True)"
   ],
   "outputs": [
    {
     "output_type": "display_data",
     "data": {
      "text/plain": [
       "<Figure size 432x288 with 1 Axes>"
      ],
      "image/png": "[encoded data removed]"
     },
     "metadata": {
      "needs_background": "light"
     }
    }
   ],
   "metadata": {}
  },
  {
   "cell_type": "code",
   "execution_count": 8,
   "source": [
    "alpha_fig = 1\n",
    "ms = 1\n",
    "cell = 1\n",
    "\n",
    "plt.plot(df.time[df.cell==cell], df.GFP_mRNA[df.cell==cell], 'o', color='green', ms=ms, alpha=alpha_fig)\n",
    "plt.plot(df.time[df.cell==cell], df.tetR_mRNA[df.cell==cell], 'o', color='orange', ms=ms, alpha=alpha_fig)\n",
    "plt.plot(df.time[df.cell==cell], df.lacI_mRNA[df.cell==cell], 'o', color='blue', ms=ms, alpha=alpha_fig)\n",
    "plt.plot(df.time[df.cell==cell], df.alphacl_mRNA[df.cell==cell], 'o', color='red', ms=ms, alpha=alpha_fig)\n",
    "\n",
    "plt.grid(True)\n",
    "# plt.xscale('log')"
   ],
   "outputs": [
    {
     "output_type": "display_data",
     "data": {
      "text/plain": [
       "<Figure size 432x288 with 1 Axes>"
      ],
      "image/png": "[encoded data removed]"
     },
     "metadata": {
      "needs_background": "light"
     }
    }
   ],
   "metadata": {}
  },
  {
   "cell_type": "code",
   "execution_count": 9,
   "source": [
    "cells = df.cell.unique()\n",
    "lw = 0.8\n",
    "alpha_fig = 0.5\n",
    "\n",
    "for cell in cells:\n",
    "    plt.plot(df.tetR[df.cell==cell], df.GFP[df.cell==cell], 'o', color='black', ms=0.5, lw=lw, alpha=alpha_fig)\n",
    "# plt.yscale('log')\n",
    "# plt.xscale('log')"
   ],
   "outputs": [
    {
     "output_type": "display_data",
     "data": {
      "text/plain": [
       "<Figure size 432x288 with 1 Axes>"
      ],
      "image/png": "[encoded data removed]"
     },
     "metadata": {
      "needs_background": "light"
     }
    }
   ],
   "metadata": {}
  },
  {
   "cell_type": "code",
   "execution_count": 10,
   "source": [
    "cells = df.cell.unique()\n",
    "lw = 0.5\n",
    "alpha_fig = 0.5\n",
    "\n",
    "for cell in cells:\n",
    "    plt.plot(df.tetR[df.cell==cell], df.GFP[df.cell==cell], '-', color='green', lw=lw, alpha=alpha_fig)\n",
    "plt.plot(df.tetR[df.cell==1], df.GFP[df.cell==1], '-', color='green', lw=lw, label= r'$TetR$-$GFP$')\n",
    "plt.grid(True)\n",
    "plt.legend(loc=7)\n",
    "plt.title('Repressilator')\n",
    "plt.ylabel(r'$GFP$')\n",
    "plt.xlabel(r'$TetR$')\n",
    "plt.yscale('log')\n",
    "plt.xscale('log')"
   ],
   "outputs": [
    {
     "output_type": "display_data",
     "data": {
      "text/plain": [
       "<Figure size 432x288 with 1 Axes>"
      ],
      "image/png": "[encoded data removed]"
     },
     "metadata": {
      "needs_background": "light"
     }
    }
   ],
   "metadata": {}
  },
  {
   "cell_type": "code",
   "execution_count": 11,
   "source": [
    "5 * 10 ** -4"
   ],
   "outputs": [
    {
     "output_type": "execute_result",
     "data": {
      "text/plain": [
       "0.0005"
      ]
     },
     "metadata": {},
     "execution_count": 11
    }
   ],
   "metadata": {}
  },
  {
   "cell_type": "code",
   "execution_count": 12,
   "source": [
    "1.66*10**-15"
   ],
   "outputs": [
    {
     "output_type": "execute_result",
     "data": {
      "text/plain": [
       "1.66e-15"
      ]
     },
     "metadata": {},
     "execution_count": 12
    }
   ],
   "metadata": {}
  }
 ],
 "metadata": {
  "interpreter": {
   "hash": "b01412023c51a3078b0a98df019d7e29ec27d3d95200540575b7d7e23c5a9df8"
  },
  "kernelspec": {
   "name": "python3",
   "display_name": "Python 3.9.5 64-bit ('gsim': conda)"
  },
  "language_info": {
   "codemirror_mode": {
    "name": "ipython",
    "version": 3
   },
   "file_extension": ".py",
   "mimetype": "text/x-python",
   "name": "python",
   "nbconvert_exporter": "python",
   "pygments_lexer": "ipython3",
   "version": "3.9.5"
  },
  "orig_nbformat": 4
 },
 "nbformat": 4,
 "nbformat_minor": 2
}